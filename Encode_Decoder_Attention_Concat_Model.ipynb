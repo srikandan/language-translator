{
 "cells": [
  {
   "cell_type": "code",
   "execution_count": 1,
   "metadata": {},
   "outputs": [],
   "source": [
    "import matplotlib.pyplot as plt\n",
    "import pandas as pd\n",
    "import re\n",
    "import os\n",
    "import shutil\n",
    "import math\n",
    "import seaborn as sns\n",
    "import nltk.translate.bleu_score as bleu\n",
    "import matplotlib.ticker as ticker\n",
    "\n",
    "import tensorflow as tf\n",
    "from tensorflow.keras.layers import Embedding, LSTM, Dense, Activation, Dot\n",
    "from tensorflow.keras.models import Model\n",
    "from tensorflow.keras.preprocessing.text import Tokenizer\n",
    "from tensorflow.keras.preprocessing.sequence import pad_sequences\n",
    "import numpy as np\n",
    "from sklearn.model_selection import train_test_split\n",
    "from tqdm import tqdm\n",
    "\n",
    "import warnings\n",
    "warnings.filterwarnings('ignore')"
   ]
  },
  {
   "cell_type": "code",
   "execution_count": 2,
   "metadata": {},
   "outputs": [],
   "source": [
    "tf.keras.backend.clear_session()"
   ]
  },
  {
   "cell_type": "code",
   "execution_count": 3,
   "metadata": {},
   "outputs": [
    {
     "data": {
      "text/html": [
       "<div>\n",
       "<style scoped>\n",
       "    .dataframe tbody tr th:only-of-type {\n",
       "        vertical-align: middle;\n",
       "    }\n",
       "\n",
       "    .dataframe tbody tr th {\n",
       "        vertical-align: top;\n",
       "    }\n",
       "\n",
       "    .dataframe thead th {\n",
       "        text-align: right;\n",
       "    }\n",
       "</style>\n",
       "<table border=\"1\" class=\"dataframe\">\n",
       "  <thead>\n",
       "    <tr style=\"text-align: right;\">\n",
       "      <th></th>\n",
       "      <th>italian</th>\n",
       "      <th>english_inp</th>\n",
       "      <th>english_out</th>\n",
       "    </tr>\n",
       "  </thead>\n",
       "  <tbody>\n",
       "    <tr>\n",
       "      <th>0</th>\n",
       "      <td>ciao</td>\n",
       "      <td>&lt;start&gt; hi</td>\n",
       "      <td>hi &lt;end&gt;</td>\n",
       "    </tr>\n",
       "    <tr>\n",
       "      <th>1</th>\n",
       "      <td>corri</td>\n",
       "      <td>&lt;start&gt; run</td>\n",
       "      <td>run &lt;end&gt;</td>\n",
       "    </tr>\n",
       "    <tr>\n",
       "      <th>2</th>\n",
       "      <td>corra</td>\n",
       "      <td>&lt;start&gt; run</td>\n",
       "      <td>run &lt;end&gt;</td>\n",
       "    </tr>\n",
       "    <tr>\n",
       "      <th>3</th>\n",
       "      <td>correte</td>\n",
       "      <td>&lt;start&gt; run</td>\n",
       "      <td>run &lt;end&gt;</td>\n",
       "    </tr>\n",
       "    <tr>\n",
       "      <th>4</th>\n",
       "      <td>chi</td>\n",
       "      <td>&lt;start&gt; who</td>\n",
       "      <td>who &lt;end&gt;</td>\n",
       "    </tr>\n",
       "  </tbody>\n",
       "</table>\n",
       "</div>"
      ],
      "text/plain": [
       "   italian  english_inp english_out\n",
       "0     ciao   <start> hi    hi <end>\n",
       "1    corri  <start> run   run <end>\n",
       "2    corra  <start> run   run <end>\n",
       "3  correte  <start> run   run <end>\n",
       "4      chi  <start> who   who <end>"
      ]
     },
     "execution_count": 3,
     "metadata": {},
     "output_type": "execute_result"
    }
   ],
   "source": [
    "data = pd.read_csv('preprocessed_data.csv')\n",
    "data.head()"
   ]
  },
  {
   "cell_type": "code",
   "execution_count": 4,
   "metadata": {},
   "outputs": [
    {
     "name": "stdout",
     "output_type": "stream",
     "text": [
      "(272932, 3) (68234, 3)\n"
     ]
    }
   ],
   "source": [
    "train, validation = train_test_split(data, test_size=0.2, random_state=42)\n",
    "\n",
    "print(train.shape, validation.shape)"
   ]
  },
  {
   "cell_type": "code",
   "execution_count": 5,
   "metadata": {},
   "outputs": [],
   "source": [
    "train.iloc[0,1] = str(train.iloc[0,1]) + ' <end>'"
   ]
  },
  {
   "cell_type": "code",
   "execution_count": 6,
   "metadata": {},
   "outputs": [
    {
     "data": {
      "text/html": [
       "<div>\n",
       "<style scoped>\n",
       "    .dataframe tbody tr th:only-of-type {\n",
       "        vertical-align: middle;\n",
       "    }\n",
       "\n",
       "    .dataframe tbody tr th {\n",
       "        vertical-align: top;\n",
       "    }\n",
       "\n",
       "    .dataframe thead th {\n",
       "        text-align: right;\n",
       "    }\n",
       "</style>\n",
       "<table border=\"1\" class=\"dataframe\">\n",
       "  <thead>\n",
       "    <tr style=\"text-align: right;\">\n",
       "      <th></th>\n",
       "      <th>italian</th>\n",
       "      <th>english_inp</th>\n",
       "      <th>english_out</th>\n",
       "    </tr>\n",
       "  </thead>\n",
       "  <tbody>\n",
       "    <tr>\n",
       "      <th>76648</th>\n",
       "      <td>lei ha acceso le candele</td>\n",
       "      <td>&lt;start&gt; she lit the candles &lt;end&gt;</td>\n",
       "      <td>she lit the candles &lt;end&gt;</td>\n",
       "    </tr>\n",
       "    <tr>\n",
       "      <th>246895</th>\n",
       "      <td>ecco una foto di tom che balla</td>\n",
       "      <td>&lt;start&gt; here is a picture of tom dancing</td>\n",
       "      <td>here is a picture of tom dancing &lt;end&gt;</td>\n",
       "    </tr>\n",
       "  </tbody>\n",
       "</table>\n",
       "</div>"
      ],
      "text/plain": [
       "                               italian  \\\n",
       "76648         lei ha acceso le candele   \n",
       "246895  ecco una foto di tom che balla   \n",
       "\n",
       "                                     english_inp  \\\n",
       "76648          <start> she lit the candles <end>   \n",
       "246895  <start> here is a picture of tom dancing   \n",
       "\n",
       "                                   english_out  \n",
       "76648                she lit the candles <end>  \n",
       "246895  here is a picture of tom dancing <end>  "
      ]
     },
     "execution_count": 6,
     "metadata": {},
     "output_type": "execute_result"
    }
   ],
   "source": [
    "train.head(2)"
   ]
  },
  {
   "cell_type": "code",
   "execution_count": 7,
   "metadata": {},
   "outputs": [
    {
     "data": {
      "text/html": [
       "<div>\n",
       "<style scoped>\n",
       "    .dataframe tbody tr th:only-of-type {\n",
       "        vertical-align: middle;\n",
       "    }\n",
       "\n",
       "    .dataframe tbody tr th {\n",
       "        vertical-align: top;\n",
       "    }\n",
       "\n",
       "    .dataframe thead th {\n",
       "        text-align: right;\n",
       "    }\n",
       "</style>\n",
       "<table border=\"1\" class=\"dataframe\">\n",
       "  <thead>\n",
       "    <tr style=\"text-align: right;\">\n",
       "      <th></th>\n",
       "      <th>italian</th>\n",
       "      <th>english_inp</th>\n",
       "      <th>english_out</th>\n",
       "    </tr>\n",
       "  </thead>\n",
       "  <tbody>\n",
       "    <tr>\n",
       "      <th>339758</th>\n",
       "      <td>tom e mary non vanno daccordo perché non hanno...</td>\n",
       "      <td>&lt;start&gt; tom and mary do not get along because ...</td>\n",
       "      <td>tom and mary do not get along because they hav...</td>\n",
       "    </tr>\n",
       "    <tr>\n",
       "      <th>113618</th>\n",
       "      <td>studi ogni giorno</td>\n",
       "      <td>&lt;start&gt; do you study every day</td>\n",
       "      <td>do you study every day &lt;end&gt;</td>\n",
       "    </tr>\n",
       "  </tbody>\n",
       "</table>\n",
       "</div>"
      ],
      "text/plain": [
       "                                                  italian  \\\n",
       "339758  tom e mary non vanno daccordo perché non hanno...   \n",
       "113618                                  studi ogni giorno   \n",
       "\n",
       "                                              english_inp  \\\n",
       "339758  <start> tom and mary do not get along because ...   \n",
       "113618                     <start> do you study every day   \n",
       "\n",
       "                                              english_out  \n",
       "339758  tom and mary do not get along because they hav...  \n",
       "113618                       do you study every day <end>  "
      ]
     },
     "execution_count": 7,
     "metadata": {},
     "output_type": "execute_result"
    }
   ],
   "source": [
    "validation.head(2)"
   ]
  },
  {
   "cell_type": "code",
   "execution_count": 8,
   "metadata": {},
   "outputs": [
    {
     "name": "stdout",
     "output_type": "stream",
     "text": [
      "Input Vocab Size: 26081\n"
     ]
    }
   ],
   "source": [
    "tknizer_ita = Tokenizer(filters='')\n",
    "tknizer_ita.fit_on_texts(train['italian'].values)\n",
    "\n",
    "vocab_size_ita=len(tknizer_ita.word_index.keys())\n",
    "print('Input Vocab Size:', vocab_size_ita)"
   ]
  },
  {
   "cell_type": "code",
   "execution_count": 9,
   "metadata": {},
   "outputs": [
    {
     "name": "stdout",
     "output_type": "stream",
     "text": [
      "Output Vocab Size: 12771\n"
     ]
    }
   ],
   "source": [
    "tknizer_eng = Tokenizer(filters='')\n",
    "tknizer_eng.fit_on_texts(train['english_inp'].values)\n",
    "\n",
    "vocab_size_eng=len(tknizer_eng.word_index.keys())\n",
    "print('Output Vocab Size:', vocab_size_eng)"
   ]
  },
  {
   "cell_type": "code",
   "execution_count": 10,
   "metadata": {},
   "outputs": [
    {
     "data": {
      "text/plain": [
       "(1, 10074)"
      ]
     },
     "execution_count": 10,
     "metadata": {},
     "output_type": "execute_result"
    }
   ],
   "source": [
    "tknizer_eng.word_index['<start>'], tknizer_eng.word_index['<end>']"
   ]
  },
  {
   "cell_type": "code",
   "execution_count": 11,
   "metadata": {},
   "outputs": [
    {
     "name": "stdout",
     "output_type": "stream",
     "text": [
      "10074\n"
     ]
    }
   ],
   "source": [
    "end_word_index = tknizer_eng.word_index['<end>']\n",
    "print(end_word_index)"
   ]
  },
  {
   "cell_type": "code",
   "execution_count": 12,
   "metadata": {},
   "outputs": [],
   "source": [
    "eng_index_word={}\n",
    "eng_word_index={}\n",
    "for key,value in tknizer_eng.word_index.items():\n",
    "    eng_index_word[value] = key \n",
    "    eng_word_index[key] = value"
   ]
  },
  {
   "cell_type": "code",
   "execution_count": 13,
   "metadata": {},
   "outputs": [],
   "source": [
    "# Parameters\n",
    "max_length = 20\n",
    "batch_size = 1024"
   ]
  },
  {
   "cell_type": "code",
   "execution_count": 14,
   "metadata": {},
   "outputs": [],
   "source": [
    "# Reference : Assignment\n",
    "class Dataset:\n",
    "    def __init__(self, data, tknizer_ita, tknizer_eng, max_len):\n",
    "        self.encoder_inps = data['italian'].values\n",
    "        self.decoder_inps = data['english_inp'].values\n",
    "        self.decoder_outs = data['english_out'].values\n",
    "        self.tknizer_eng = tknizer_eng\n",
    "        self.tknizer_ita = tknizer_ita\n",
    "        self.max_len = max_len\n",
    "\n",
    "    def __getitem__(self, i):\n",
    "        self.encoder_seq = self.tknizer_ita.texts_to_sequences([self.encoder_inps[i]])\n",
    "        self.decoder_inp_seq = self.tknizer_eng.texts_to_sequences([self.decoder_inps[i]])\n",
    "        self.decoder_out_seq = self.tknizer_eng.texts_to_sequences([self.decoder_outs[i]])\n",
    "\n",
    "        self.encoder_seq = pad_sequences(self.encoder_seq, maxlen=self.max_len, dtype='int32', padding='post')\n",
    "        self.decoder_inp_seq = pad_sequences(self.decoder_inp_seq, maxlen=self.max_len, dtype='int32', padding='post')\n",
    "        self.decoder_out_seq = pad_sequences(self.decoder_out_seq, maxlen=self.max_len, dtype='int32', padding='post')\n",
    "        return self.encoder_seq, self.decoder_inp_seq, self.decoder_out_seq\n",
    "\n",
    "    def __len__(self):\n",
    "        return len(self.encoder_inps)"
   ]
  },
  {
   "cell_type": "code",
   "execution_count": 15,
   "metadata": {},
   "outputs": [],
   "source": [
    "train_dataset = Dataset(train, tknizer_ita, tknizer_eng, max_length)\n",
    "test_dataset  = Dataset(validation, tknizer_ita, tknizer_eng, max_length)"
   ]
  },
  {
   "cell_type": "code",
   "execution_count": 16,
   "metadata": {},
   "outputs": [
    {
     "name": "stdout",
     "output_type": "stream",
     "text": [
      "(array([[  19,   10, 2403,   23, 2172,    0,    0,    0,    0,    0,    0,\n",
      "           0,    0,    0,    0,    0,    0,    0,    0,    0]]), array([[    1,    37,  2018,     8,  1826, 10074,     0,     0,     0,\n",
      "            0,     0,     0,     0,     0,     0,     0,     0,     0,\n",
      "            0,     0]]), array([[   37,  2018,     8,  1826, 10074,     0,     0,     0,     0,\n",
      "            0,     0,     0,     0,     0,     0,     0,     0,     0,\n",
      "            0,     0]]))\n",
      "\n",
      "\n"
     ]
    },
    {
     "data": {
      "text/html": [
       "<div>\n",
       "<style scoped>\n",
       "    .dataframe tbody tr th:only-of-type {\n",
       "        vertical-align: middle;\n",
       "    }\n",
       "\n",
       "    .dataframe tbody tr th {\n",
       "        vertical-align: top;\n",
       "    }\n",
       "\n",
       "    .dataframe thead th {\n",
       "        text-align: right;\n",
       "    }\n",
       "</style>\n",
       "<table border=\"1\" class=\"dataframe\">\n",
       "  <thead>\n",
       "    <tr style=\"text-align: right;\">\n",
       "      <th></th>\n",
       "      <th>italian</th>\n",
       "      <th>english_inp</th>\n",
       "      <th>english_out</th>\n",
       "    </tr>\n",
       "  </thead>\n",
       "  <tbody>\n",
       "    <tr>\n",
       "      <th>76648</th>\n",
       "      <td>lei ha acceso le candele</td>\n",
       "      <td>&lt;start&gt; she lit the candles &lt;end&gt;</td>\n",
       "      <td>she lit the candles &lt;end&gt;</td>\n",
       "    </tr>\n",
       "  </tbody>\n",
       "</table>\n",
       "</div>"
      ],
      "text/plain": [
       "                        italian                        english_inp  \\\n",
       "76648  lei ha acceso le candele  <start> she lit the candles <end>   \n",
       "\n",
       "                     english_out  \n",
       "76648  she lit the candles <end>  "
      ]
     },
     "execution_count": 16,
     "metadata": {},
     "output_type": "execute_result"
    }
   ],
   "source": [
    "print(train_dataset[0])\n",
    "print('\\n')\n",
    "train.head(1)"
   ]
  },
  {
   "cell_type": "code",
   "execution_count": 17,
   "metadata": {},
   "outputs": [],
   "source": [
    "# Reference : Assignment\n",
    "class Dataloader(tf.keras.utils.Sequence):    \n",
    "    def __init__(self, dataset, batch_size=1, is_matrix=False):\n",
    "        self.dataset = dataset\n",
    "        self.batch_size = batch_size\n",
    "        self.indexes = 0\n",
    "        if(is_matrix == False):\n",
    "            self.indexes = np.arange(len(self.dataset.encoder_inps))\n",
    "            \n",
    "    def __getitem__(self, i):\n",
    "        start = i * self.batch_size\n",
    "        stop = (i + 1) * self.batch_size\n",
    "        data = []\n",
    "        for j in range(start, stop):\n",
    "            data.append(self.dataset[j])\n",
    "        batch = [np.squeeze(np.stack(samples, axis=1), axis=0) for samples in zip(*data)]\n",
    "        return tuple([[batch[0], batch[1]], batch[2]])\n",
    "\n",
    "    def __len__(self):\n",
    "        return len(self.indexes) // self.batch_size\n",
    "\n",
    "    def on_epoch_end(self):\n",
    "        self.indexes = np.random.permutation(self.indexes)"
   ]
  },
  {
   "cell_type": "code",
   "execution_count": 18,
   "metadata": {},
   "outputs": [
    {
     "name": "stdout",
     "output_type": "stream",
     "text": [
      "(1024, 20) (1024, 20)\n"
     ]
    }
   ],
   "source": [
    "train_dataloader = Dataloader(train_dataset, batch_size=batch_size, is_matrix=False)\n",
    "test_dataloader = Dataloader(test_dataset, batch_size=batch_size, is_matrix=False)\n",
    "\n",
    "print(train_dataloader[0][0][0].shape, test_dataloader[0][0][0].shape)"
   ]
  },
  {
   "cell_type": "markdown",
   "metadata": {},
   "source": [
    "<font color='blue'>**Encoder**</font>"
   ]
  },
  {
   "cell_type": "code",
   "execution_count": 19,
   "metadata": {},
   "outputs": [],
   "source": [
    "class Encoder(tf.keras.layers.Layer):\n",
    "    def __init__(self, vocab_size, embedding_dim, enc_units, input_length):\n",
    "        super().__init__()\n",
    "        self.vocab_size = vocab_size\n",
    "        self.embedding_dim = embedding_dim\n",
    "        self.input_length = input_length\n",
    "        self.enc_units= enc_units\n",
    "        self.lstm_output = 0\n",
    "        self.lstm_state_h=0\n",
    "        self.lstm_state_c=0\n",
    "        \n",
    "    def build(self, input_shape):\n",
    "        self.embedding = Embedding(input_dim=self.vocab_size, output_dim=self.embedding_dim, input_length=self.input_length,\n",
    "                           mask_zero=True, name=\"embedding_layer_encoder\")\n",
    "        self.lstm = LSTM(self.enc_units, return_state=True, return_sequences=True, name=\"Encoder_LSTM\")\n",
    "        \n",
    "    def call(self, input_sentances, training=True):\n",
    "        input_embedd = self.embedding(input_sentances)\n",
    "        self.lstm_output, self.lstm_state_h,self.lstm_state_c = self.lstm(input_embedd)\n",
    "        return self.lstm_output, self.lstm_state_h,self.lstm_state_c\n",
    "    \n",
    "    def initialize_states(self, batch_size):\n",
    "        self.lstm_state_h = tf.zeros((batch_size, self.enc_units))\n",
    "        self.lstm_state_c = tf.zeros((batch_size, self.enc_units))\n",
    "        return self.lstm_state_h, self.lstm_state_c"
   ]
  },
  {
   "cell_type": "markdown",
   "metadata": {
    "colab_type": "text",
    "id": "4ub9aN-hK244"
   },
   "source": [
    "<font color='cyan'>**Grader function - 1**</font>"
   ]
  },
  {
   "cell_type": "code",
   "execution_count": 20,
   "metadata": {},
   "outputs": [
    {
     "name": "stdout",
     "output_type": "stream",
     "text": [
      "True\n"
     ]
    }
   ],
   "source": [
    "def grader_check_encoder():\n",
    "    vocab_size=10\n",
    "    embedding_size=20\n",
    "    lstm_size=32\n",
    "    input_length=10\n",
    "    batch_size=16\n",
    "    encoder=Encoder(vocab_size,embedding_size,lstm_size,input_length)\n",
    "    input_sequence=tf.random.uniform(shape=[batch_size,input_length],maxval=vocab_size,minval=0,dtype=tf.int32)\n",
    "    initial_state=encoder.initialize_states(batch_size)\n",
    "    encoder_output,state_h,state_c=encoder(input_sequence,initial_state)\n",
    "    \n",
    "    assert(encoder_output.shape==(batch_size,input_length,lstm_size) and state_h.shape==(batch_size,lstm_size) and state_c.shape==(batch_size,lstm_size))\n",
    "    return True\n",
    "print(grader_check_encoder())"
   ]
  },
  {
   "cell_type": "markdown",
   "metadata": {},
   "source": [
    "<font color='blue'>**Attention**</font>"
   ]
  },
  {
   "cell_type": "code",
   "execution_count": 21,
   "metadata": {},
   "outputs": [],
   "source": [
    "class Attention(tf.keras.layers.Layer):\n",
    "    def __init__(self, scoring_function, att_units, print_size=True):\n",
    "        super().__init__()\n",
    "        self.scoring_function = scoring_function\n",
    "        self.att_units = att_units\n",
    "        self.print_size = print_size\n",
    "        self.attn_weights = 0\n",
    "        self.context_vector = 0\n",
    "        \n",
    "        if self.scoring_function == 'general':\n",
    "            self.w = tf.keras.layers.Dense(self.att_units, activation='relu', kernel_initializer='he_normal')\n",
    "        elif self.scoring_function == 'concat':\n",
    "            self.w1 = tf.keras.layers.Dense(self.att_units, activation='relu', kernel_initializer='he_normal')\n",
    "            self.w2 = tf.keras.layers.Dense(self.att_units, activation='relu', kernel_initializer='he_normal')\n",
    "            self.v = tf.keras.layers.Dense(1, activation='relu', kernel_initializer='he_normal')\n",
    "\n",
    "    def call(self, decoder_h_state, encoder_output):\n",
    "        if self.scoring_function == 'dot':\n",
    "            hidden_state = tf.expand_dims(decoder_h_state, axis=1)\n",
    "            score = Dot(axes=(2))([encoder_output, hidden_state])\n",
    "            self.attn_weights = tf.nn.softmax(score, axis=1)\n",
    "            self.context_vector = self.attn_weights * encoder_output\n",
    "            self.context_vector = tf.reduce_sum(self.context_vector, axis=1)\n",
    "            if(self.print_size == True):\n",
    "                print('\\n')\n",
    "                print('='*50)\n",
    "                print('Dot Model')\n",
    "                print('='*50)\n",
    "                print('Encoder Shape:', encoder_output.shape)\n",
    "                print('Decoder Hidden Shape:', hidden_state.shape)\n",
    "                print('Score (Dot Product) Shape:', score.shape)\n",
    "                print('Attention Shape (Score + softmax):', self.attn_weights.shape)\n",
    "                print('Context Vector Shape:', self.context_vector.shape)\n",
    "                print('\\n')\n",
    "            \n",
    "        elif self.scoring_function == 'general':\n",
    "            hidden_state = tf.expand_dims(decoder_h_state, axis=1)\n",
    "            score = self.w(encoder_output)\n",
    "            score = Dot(axes=(2))([score, hidden_state])\n",
    "            self.attn_weights = tf.nn.softmax(score, axis=1)\n",
    "            self.context_vector = self.attn_weights * encoder_output\n",
    "            self.context_vector = tf.reduce_sum(self.context_vector, axis=1)\n",
    "            if(self.print_size == True):\n",
    "                print('\\n')\n",
    "                print('='*50)\n",
    "                print('General Model')\n",
    "                print('='*50)\n",
    "                print('Encoder Shape:', encoder_output.shape)\n",
    "                print('Decoder Hidden Shape:', hidden_state.shape)\n",
    "                print('Score (Dot Product) Shape:', score.shape)\n",
    "                print('Attention Shape (Score + softmax):', self.attn_weights.shape)\n",
    "                print('Context Vector Shape:', self.context_vector.shape)\n",
    "                print('\\n')\n",
    "            \n",
    "        elif self.scoring_function == 'concat':\n",
    "            hidden_state = tf.expand_dims(decoder_h_state, axis=1)\n",
    "            score = self.v(tf.nn.tanh((self.w1(encoder_output)) + (self.w2(hidden_state))))\n",
    "            self.attn_weights = tf.nn.softmax(score, axis=1)\n",
    "            self.context_vector = self.attn_weights * encoder_output\n",
    "            self.context_vector = tf.reduce_sum(self.context_vector, axis=1)\n",
    "            if(self.print_size == True):\n",
    "                print('\\n')\n",
    "                print('='*50)\n",
    "                print('Concat Model')\n",
    "                print('='*50)\n",
    "                print('Encoder Shape:', encoder_output.shape)\n",
    "                print('Decoder Hidden Shape:', hidden_state.shape)\n",
    "                print('Score (Dot Product) Shape:', score.shape)\n",
    "                print('Attention Shape (Score + softmax):', self.attn_weights.shape)\n",
    "                print('Context Vector Shape:', self.context_vector.shape)\n",
    "                print('\\n')\n",
    "            \n",
    "        return self.context_vector, self.attn_weights"
   ]
  },
  {
   "cell_type": "markdown",
   "metadata": {
    "colab_type": "text",
    "id": "Hq-I0SUbLOe8"
   },
   "source": [
    "<font color='orange'>**Grader function - 2**</font>"
   ]
  },
  {
   "cell_type": "code",
   "execution_count": 22,
   "metadata": {},
   "outputs": [
    {
     "name": "stdout",
     "output_type": "stream",
     "text": [
      "\n",
      "\n",
      "==================================================\n",
      "Dot Model\n",
      "==================================================\n",
      "Encoder Shape: (16, 10, 32)\n",
      "Decoder Hidden Shape: (16, 1, 32)\n",
      "Score (Dot Product) Shape: (16, 10, 1)\n",
      "Attention Shape (Score + softmax): (16, 10, 1)\n",
      "Context Vector Shape: (16, 32)\n",
      "\n",
      "\n",
      "True\n",
      "\n",
      "\n",
      "==================================================\n",
      "General Model\n",
      "==================================================\n",
      "Encoder Shape: (16, 10, 32)\n",
      "Decoder Hidden Shape: (16, 1, 32)\n",
      "Score (Dot Product) Shape: (16, 10, 1)\n",
      "Attention Shape (Score + softmax): (16, 10, 1)\n",
      "Context Vector Shape: (16, 32)\n",
      "\n",
      "\n",
      "True\n",
      "\n",
      "\n",
      "==================================================\n",
      "Concat Model\n",
      "==================================================\n",
      "Encoder Shape: (16, 10, 32)\n",
      "Decoder Hidden Shape: (16, 1, 32)\n",
      "Score (Dot Product) Shape: (16, 10, 1)\n",
      "Attention Shape (Score + softmax): (16, 10, 1)\n",
      "Context Vector Shape: (16, 32)\n",
      "\n",
      "\n",
      "True\n"
     ]
    }
   ],
   "source": [
    "def grader_check_attention(scoring_fun):\n",
    "    \n",
    "    ''' \n",
    "        att_units: Used in matrix multiplications for scoring functions,\n",
    "        input_length: Length of the input sentence,\n",
    "        batch_size\n",
    "    '''\n",
    "    \n",
    "    input_length=10\n",
    "    batch_size=16\n",
    "    att_units=32\n",
    "    \n",
    "    state_h=tf.random.uniform(shape=[batch_size,att_units])\n",
    "    encoder_output=tf.random.uniform(shape=[batch_size,input_length,att_units])\n",
    "    attention=Attention(scoring_fun,att_units)\n",
    "    context_vector,attention_weights=attention(state_h,encoder_output)\n",
    "    assert(context_vector.shape==(batch_size,att_units) and attention_weights.shape==(batch_size,input_length,1))\n",
    "    return True\n",
    "print(grader_check_attention('dot'))\n",
    "print(grader_check_attention('general'))\n",
    "print(grader_check_attention('concat'))"
   ]
  },
  {
   "cell_type": "markdown",
   "metadata": {},
   "source": [
    "<font color='blue'>**OneStepDecoder**</font>"
   ]
  },
  {
   "cell_type": "code",
   "execution_count": 23,
   "metadata": {},
   "outputs": [],
   "source": [
    "class One_Step_Decoder(tf.keras.Model):\n",
    "    def __init__(self, vocab_size, embedding_dim, input_length, \n",
    "                 dec_units , score_fun, att_units, print_size=True):\n",
    "        super().__init__()\n",
    "        self.vocab_size = vocab_size\n",
    "        self.embedding_dim = embedding_dim\n",
    "        self.dec_units = dec_units\n",
    "        self.input_length = input_length\n",
    "        self.att_units = att_units\n",
    "        self.print_size = print_size\n",
    "        \n",
    "        self.embedding = Embedding(input_dim=self.vocab_size, output_dim=self.embedding_dim, \n",
    "                                   input_length=self.input_length, mask_zero=True, weights = None,\n",
    "                                   name=\"embedding_layer_decoder\", trainable=True)\n",
    "        self.lstm = LSTM(self.dec_units, return_sequences=True, \n",
    "                         return_state=True, name=\"Decoder_LSTM\")\n",
    "        self.dense = Dense((vocab_size))\n",
    "        self.attention = Attention(score_fun, att_units, print_size=self.print_size)\n",
    "        \n",
    "    def call(self, input_to_decoder, encoder_output, state_h, state_c):\n",
    "        target_embedd = self.embedding(input_to_decoder)\n",
    "        context_vector, attention_weights = self.attention(state_h, encoder_output)\n",
    "        concat_data = tf.concat([tf.expand_dims(context_vector, 1), target_embedd], -1)\n",
    "        lstm_output, state_h, state_c = self.lstm(concat_data, initial_state=[state_h, state_c])\n",
    "        output = self.dense(lstm_output)\n",
    "        output = tf.squeeze(output, 1)\n",
    "        if(self.print_size == True):\n",
    "            print('Embedding Shape:', target_embedd.shape)\n",
    "            print('Concated Shape:', concat_data.shape)\n",
    "            print('lstm_output Shape:', lstm_output.shape)\n",
    "            print('Output Shape:', output.shape)\n",
    "            print('state_h Shape:', state_h.shape)\n",
    "            print('state_c Shape:', state_c.shape)\n",
    "            print('attention_weights Shape:', attention_weights.shape)\n",
    "            print('context_vector Shape:', context_vector.shape)\n",
    "            print('\\n')\n",
    "            \n",
    "        return output, state_h, state_c, attention_weights, context_vector"
   ]
  },
  {
   "cell_type": "markdown",
   "metadata": {},
   "source": [
    "<font color='cyan'>**Grader function - 3**</font>"
   ]
  },
  {
   "cell_type": "code",
   "execution_count": 24,
   "metadata": {},
   "outputs": [
    {
     "name": "stdout",
     "output_type": "stream",
     "text": [
      "\n",
      "\n",
      "==================================================\n",
      "Dot Model\n",
      "==================================================\n",
      "Encoder Shape: (32, 10, 16)\n",
      "Decoder Hidden Shape: (32, 1, 16)\n",
      "Score (Dot Product) Shape: (32, 10, 1)\n",
      "Attention Shape (Score + softmax): (32, 10, 1)\n",
      "Context Vector Shape: (32, 16)\n",
      "\n",
      "\n",
      "Embedding Shape: (32, 1, 12)\n",
      "Concated Shape: (32, 1, 28)\n",
      "lstm_output Shape: (32, 1, 16)\n",
      "Output Shape: (32, 13)\n",
      "state_h Shape: (32, 16)\n",
      "state_c Shape: (32, 16)\n",
      "attention_weights Shape: (32, 10, 1)\n",
      "context_vector Shape: (32, 16)\n",
      "\n",
      "\n",
      "True\n",
      "\n",
      "\n",
      "==================================================\n",
      "General Model\n",
      "==================================================\n",
      "Encoder Shape: (32, 10, 16)\n",
      "Decoder Hidden Shape: (32, 1, 16)\n",
      "Score (Dot Product) Shape: (32, 10, 1)\n",
      "Attention Shape (Score + softmax): (32, 10, 1)\n",
      "Context Vector Shape: (32, 16)\n",
      "\n",
      "\n",
      "Embedding Shape: (32, 1, 12)\n",
      "Concated Shape: (32, 1, 28)\n",
      "lstm_output Shape: (32, 1, 16)\n",
      "Output Shape: (32, 13)\n",
      "state_h Shape: (32, 16)\n",
      "state_c Shape: (32, 16)\n",
      "attention_weights Shape: (32, 10, 1)\n",
      "context_vector Shape: (32, 16)\n",
      "\n",
      "\n",
      "True\n",
      "\n",
      "\n",
      "==================================================\n",
      "Concat Model\n",
      "==================================================\n",
      "Encoder Shape: (32, 10, 16)\n",
      "Decoder Hidden Shape: (32, 1, 16)\n",
      "Score (Dot Product) Shape: (32, 10, 1)\n",
      "Attention Shape (Score + softmax): (32, 10, 1)\n",
      "Context Vector Shape: (32, 16)\n",
      "\n",
      "\n",
      "Embedding Shape: (32, 1, 12)\n",
      "Concated Shape: (32, 1, 28)\n",
      "lstm_output Shape: (32, 1, 16)\n",
      "Output Shape: (32, 13)\n",
      "state_h Shape: (32, 16)\n",
      "state_c Shape: (32, 16)\n",
      "attention_weights Shape: (32, 10, 1)\n",
      "context_vector Shape: (32, 16)\n",
      "\n",
      "\n",
      "True\n"
     ]
    }
   ],
   "source": [
    "def grader_onestepdecoder(score_fun):\n",
    "    \n",
    "    '''\n",
    "        tar_vocab_size: Unique words of the target language,\n",
    "        embedding_dim: output embedding dimension for each word after embedding layer,\n",
    "        dec_units: Number of lstm units in decoder,\n",
    "        att_units: Used in matrix multiplications for scoring functions in attention class,\n",
    "        input_length: Length of the target sentence,\n",
    "        batch_size\n",
    "        \n",
    "    \n",
    "    '''\n",
    "    \n",
    "    tar_vocab_size=13 \n",
    "    embedding_dim=12 \n",
    "    input_length=10\n",
    "    dec_units=16 \n",
    "    att_units=16\n",
    "    batch_size=32\n",
    "    onestepdecoder=One_Step_Decoder(tar_vocab_size, embedding_dim, input_length, dec_units ,score_fun ,att_units)\n",
    "    input_to_decoder=tf.random.uniform(shape=(batch_size,1),maxval=10,minval=0,dtype=tf.int32)\n",
    "    encoder_output=tf.random.uniform(shape=[batch_size,input_length,dec_units])\n",
    "    state_h=tf.random.uniform(shape=[batch_size,dec_units])\n",
    "    state_c=tf.random.uniform(shape=[batch_size,dec_units])\n",
    "    output,state_h,state_c,attention_weights,context_vector=onestepdecoder(input_to_decoder,encoder_output,state_h,state_c)\n",
    "    assert(output.shape==(batch_size,tar_vocab_size))\n",
    "    assert(state_h.shape==(batch_size,dec_units))\n",
    "    assert(state_c.shape==(batch_size,dec_units))\n",
    "    assert(attention_weights.shape==(batch_size,input_length,1))\n",
    "    assert(context_vector.shape==(batch_size,dec_units))\n",
    "    return True\n",
    "    \n",
    "print(grader_onestepdecoder('dot'))\n",
    "print(grader_onestepdecoder('general'))\n",
    "print(grader_onestepdecoder('concat'))"
   ]
  },
  {
   "cell_type": "markdown",
   "metadata": {},
   "source": [
    "<font color='blue'>**Decoder**</font>"
   ]
  },
  {
   "cell_type": "code",
   "execution_count": 25,
   "metadata": {},
   "outputs": [],
   "source": [
    "class Decoder(tf.keras.layers.Layer):\n",
    "    def __init__(self, out_vocab_size, embedding_dim, input_length, dec_units, score_fun, att_units):\n",
    "        super().__init__()\n",
    "        self.onestepdecoder = One_Step_Decoder(out_vocab_size, embedding_dim, input_length, dec_units, \n",
    "                                               score_fun, att_units, print_size=False)\n",
    "    \n",
    "    @tf.function\n",
    "    def call(self, input_to_decoder, encoder_output, state_h, state_c):\n",
    "        if (input_to_decoder.shape[1] is None):\n",
    "            size = max_length\n",
    "        else:\n",
    "            size = input_to_decoder.shape[1]\n",
    "        all_output = tf.TensorArray(tf.float32, size=size, name='output')\n",
    "        for timestep in range(size):\n",
    "            output, state_h, state_c, attention_weights, context_vector = self.onestepdecoder(input_to_decoder[:, timestep:timestep+1], \n",
    "                                                                                              encoder_output, state_h, state_c)\n",
    "            all_output = all_output.write(timestep, output)\n",
    "        all_output = tf.transpose(all_output.stack(), [1, 0, 2])\n",
    "        return all_output"
   ]
  },
  {
   "cell_type": "markdown",
   "metadata": {},
   "source": [
    "<font color='cyan'>**Grader function - 4**</font>"
   ]
  },
  {
   "cell_type": "code",
   "execution_count": 26,
   "metadata": {},
   "outputs": [
    {
     "name": "stdout",
     "output_type": "stream",
     "text": [
      "True\n",
      "True\n",
      "True\n"
     ]
    }
   ],
   "source": [
    "def grader_decoder(score_fun):\n",
    "    \n",
    "    '''\n",
    "        out_vocab_size: Unique words of the target language,\n",
    "        embedding_dim: output embedding dimension for each word after embedding layer,\n",
    "        dec_units: Number of lstm units in decoder,\n",
    "        att_units: Used in matrix multiplications for scoring functions in attention class,\n",
    "        input_length: Length of the target sentence,\n",
    "        batch_size\n",
    "        \n",
    "    \n",
    "    '''\n",
    "    \n",
    "    out_vocab_size=13 \n",
    "    embedding_dim=12 \n",
    "    input_length=11\n",
    "    dec_units=16 \n",
    "    att_units=16\n",
    "    batch_size=32\n",
    "    \n",
    "    target_sentences=tf.random.uniform(shape=(batch_size,input_length),maxval=10,minval=0,dtype=tf.int32)\n",
    "    encoder_output=tf.random.uniform(shape=[batch_size,input_length,dec_units])\n",
    "    state_h=tf.random.uniform(shape=[batch_size,dec_units])\n",
    "    state_c=tf.random.uniform(shape=[batch_size,dec_units])\n",
    "    \n",
    "    decoder=Decoder(out_vocab_size, embedding_dim, input_length, dec_units ,score_fun ,att_units)\n",
    "    output=decoder(target_sentences,encoder_output, state_h, state_c)\n",
    "    assert(output.shape==(batch_size,input_length,out_vocab_size))\n",
    "    return True\n",
    "print(grader_decoder('dot'))\n",
    "print(grader_decoder('general'))\n",
    "print(grader_decoder('concat'))"
   ]
  },
  {
   "cell_type": "markdown",
   "metadata": {
    "colab_type": "text",
    "id": "fC1T1EOoMTqC"
   },
   "source": [
    "<font color='blue'>**Encoder Decoder model**</font>"
   ]
  },
  {
   "cell_type": "code",
   "execution_count": 27,
   "metadata": {},
   "outputs": [],
   "source": [
    "class Attention_Encoder_Decoder(tf.keras.Model):\n",
    "    def __init__(self, encoder_inputs_length, decoder_inputs_length, vocab_size_ita, vocab_size_eng, model):\n",
    "        super().__init__()\n",
    "        self.encoder = Encoder(vocab_size_ita+1, 50, 256, encoder_inputs_length)\n",
    "        self.decoder = Decoder(vocab_size_eng+1, 50, decoder_inputs_length, 256, model, 16)\n",
    "\n",
    "    def call(self, data):\n",
    "        input_data, output = data[0], data[1]\n",
    "        initial_state = self.encoder.initialize_states(batch_size)\n",
    "        encoder_output, state_h, state_c = self.encoder(input_data, initial_state)\n",
    "        decoder_output = self.decoder(output, encoder_output, state_h, state_c)\n",
    "        return decoder_output"
   ]
  },
  {
   "cell_type": "markdown",
   "metadata": {
    "colab_type": "text",
    "id": "WVRxB-FDMJWL"
   },
   "source": [
    "<font color='blue'>**Custom loss function**</font>"
   ]
  },
  {
   "cell_type": "code",
   "execution_count": 28,
   "metadata": {
    "colab": {},
    "colab_type": "code",
    "id": "QY_3izrXMs8y"
   },
   "outputs": [],
   "source": [
    "# Reference: https://www.tensorflow.org/tutorials/text/nmt_with_attention#define_the_optimizer_and_the_loss_function\n",
    "optimizer = tf.keras.optimizers.Adam()\n",
    "loss_object = tf.keras.losses.SparseCategoricalCrossentropy(from_logits=True, reduction='none')\n",
    "\n",
    "def loss_function(real, pred):\n",
    "    mask = tf.math.logical_not(tf.math.equal(real, 0))\n",
    "    loss_ = loss_object(real, pred)\n",
    "    mask = tf.cast(mask, dtype=loss_.dtype)\n",
    "    loss_ *= mask\n",
    "    return tf.reduce_mean(loss_)"
   ]
  },
  {
   "cell_type": "code",
   "execution_count": 29,
   "metadata": {},
   "outputs": [
    {
     "name": "stdout",
     "output_type": "stream",
     "text": [
      "Old Log folder is deleted\n",
      "New Log folder is created\n"
     ]
    }
   ],
   "source": [
    "# Reference: Assignment\n",
    "if(os.path.exists('logs')):\n",
    "    shutil.rmtree('logs')\n",
    "    print('Old Log folder is deleted')\n",
    "\n",
    "%reload_ext tensorboard\n",
    "\n",
    "log_dir=\"logs\"\n",
    "tensorboard_callback = tf.keras.callbacks.TensorBoard(log_dir=log_dir, \n",
    "                                                      histogram_freq=0, \n",
    "                                                      write_graph=True)\n",
    "print('New Log folder is created')"
   ]
  },
  {
   "cell_type": "code",
   "execution_count": 30,
   "metadata": {},
   "outputs": [],
   "source": [
    "def step_decay(epoch):\n",
    "    initial_lrate = 0.001\n",
    "    drop = 0.9\n",
    "    epochs_drop = 15\n",
    "    lrate = initial_lrate * math.pow(drop, math.floor((1+epoch)/epochs_drop))\n",
    "    print('Learning Rate ->', lrate)\n",
    "    return lrate\n",
    "\n",
    "lr_reducer = tf.keras.callbacks.LearningRateScheduler(step_decay)"
   ]
  },
  {
   "cell_type": "markdown",
   "metadata": {
    "colab_type": "text",
    "id": "2QlbWAqNNlqe"
   },
   "source": [
    "<font color='blue'>*** Dot Model - Training**</font>"
   ]
  },
  {
   "cell_type": "code",
   "execution_count": 32,
   "metadata": {},
   "outputs": [
    {
     "name": "stdout",
     "output_type": "stream",
     "text": [
      "Learning Rate -> 0.001\n",
      "Epoch 1/50\n",
      "266/266 [==============================] - 59s 224ms/step - loss: 1.8548 - lr: 0.0010\n",
      "Learning Rate -> 0.001\n",
      "Epoch 2/50\n",
      "266/266 [==============================] - 59s 221ms/step - loss: 1.6012 - lr: 0.0010\n",
      "Learning Rate -> 0.001\n",
      "Epoch 3/50\n",
      "266/266 [==============================] - 60s 225ms/step - loss: 1.4618 - lr: 0.0010\n",
      "Learning Rate -> 0.001\n",
      "Epoch 4/50\n",
      "266/266 [==============================] - 61s 228ms/step - loss: 1.2814 - lr: 0.0010\n",
      "Learning Rate -> 0.001\n",
      "Epoch 5/50\n",
      "266/266 [==============================] - 61s 228ms/step - loss: 1.1361 - lr: 0.0010\n",
      "Learning Rate -> 0.001\n",
      "Epoch 6/50\n",
      "266/266 [==============================] - 59s 221ms/step - loss: 1.0235 - lr: 0.0010\n",
      "Learning Rate -> 0.001\n",
      "Epoch 7/50\n",
      "266/266 [==============================] - 59s 221ms/step - loss: 0.9227 - lr: 0.0010\n",
      "Learning Rate -> 0.001\n",
      "Epoch 8/50\n",
      "266/266 [==============================] - 59s 221ms/step - loss: 0.8282 - lr: 0.0010\n",
      "Learning Rate -> 0.001\n",
      "Epoch 9/50\n",
      "266/266 [==============================] - 59s 221ms/step - loss: 0.7404 - lr: 0.0010\n",
      "Learning Rate -> 0.001\n",
      "Epoch 10/50\n",
      "266/266 [==============================] - 60s 224ms/step - loss: 0.6593 - lr: 0.0010\n",
      "Learning Rate -> 0.001\n",
      "Epoch 11/50\n",
      "266/266 [==============================] - 59s 221ms/step - loss: 0.5846 - lr: 0.0010\n",
      "Learning Rate -> 0.001\n",
      "Epoch 12/50\n",
      "266/266 [==============================] - 59s 221ms/step - loss: 0.5173 - lr: 0.0010\n",
      "Learning Rate -> 0.001\n",
      "Epoch 13/50\n",
      "266/266 [==============================] - 59s 222ms/step - loss: 0.4573 - lr: 0.0010\n",
      "Learning Rate -> 0.001\n",
      "Epoch 14/50\n",
      "266/266 [==============================] - 59s 221ms/step - loss: 0.4029 - lr: 0.0010\n",
      "Learning Rate -> 0.0009000000000000001\n",
      "Epoch 15/50\n",
      "266/266 [==============================] - 59s 222ms/step - loss: 0.3568 - lr: 9.0000e-04\n",
      "Learning Rate -> 0.0009000000000000001\n",
      "Epoch 16/50\n",
      "266/266 [==============================] - 59s 221ms/step - loss: 0.3211 - lr: 9.0000e-04\n",
      "Learning Rate -> 0.0009000000000000001\n",
      "Epoch 17/50\n",
      "266/266 [==============================] - 59s 221ms/step - loss: 0.2906 - lr: 9.0000e-04\n",
      "Learning Rate -> 0.0009000000000000001\n",
      "Epoch 18/50\n",
      "266/266 [==============================] - 59s 222ms/step - loss: 0.2645 - lr: 9.0000e-04\n",
      "Learning Rate -> 0.0009000000000000001\n",
      "Epoch 19/50\n",
      "266/266 [==============================] - 59s 221ms/step - loss: 0.2419 - lr: 9.0000e-04\n",
      "Learning Rate -> 0.0009000000000000001\n",
      "Epoch 20/50\n",
      "266/266 [==============================] - 59s 222ms/step - loss: 0.2228 - lr: 9.0000e-04\n",
      "Learning Rate -> 0.0009000000000000001\n",
      "Epoch 21/50\n",
      "266/266 [==============================] - 59s 221ms/step - loss: 0.2056 - lr: 9.0000e-04\n",
      "Learning Rate -> 0.0009000000000000001\n",
      "Epoch 22/50\n",
      "266/266 [==============================] - 59s 222ms/step - loss: 0.1907 - lr: 9.0000e-04\n",
      "Learning Rate -> 0.0009000000000000001\n",
      "Epoch 23/50\n",
      "266/266 [==============================] - 59s 221ms/step - loss: 0.1776 - lr: 9.0000e-04\n",
      "Learning Rate -> 0.0009000000000000001\n",
      "Epoch 24/50\n",
      "266/266 [==============================] - 59s 221ms/step - loss: 0.1662 - lr: 9.0000e-04\n",
      "Learning Rate -> 0.0009000000000000001\n",
      "Epoch 25/50\n",
      "266/266 [==============================] - 59s 221ms/step - loss: 0.1556 - lr: 9.0000e-04\n",
      "Learning Rate -> 0.0009000000000000001\n",
      "Epoch 26/50\n",
      "266/266 [==============================] - 59s 221ms/step - loss: 0.1464 - lr: 9.0000e-04\n",
      "Learning Rate -> 0.0009000000000000001\n",
      "Epoch 27/50\n",
      "266/266 [==============================] - 58s 220ms/step - loss: 0.1381 - lr: 9.0000e-04\n",
      "Learning Rate -> 0.0009000000000000001\n",
      "Epoch 28/50\n",
      "266/266 [==============================] - 58s 220ms/step - loss: 0.1303 - lr: 9.0000e-04\n",
      "Learning Rate -> 0.0009000000000000001\n",
      "Epoch 29/50\n",
      "266/266 [==============================] - 59s 220ms/step - loss: 0.1232 - lr: 9.0000e-04\n",
      "Learning Rate -> 0.0008100000000000001\n",
      "Epoch 30/50\n",
      "266/266 [==============================] - 58s 220ms/step - loss: 0.1155 - lr: 8.1000e-04\n",
      "Learning Rate -> 0.0008100000000000001\n",
      "Epoch 31/50\n",
      "266/266 [==============================] - 58s 220ms/step - loss: 0.1101 - lr: 8.1000e-04\n",
      "Learning Rate -> 0.0008100000000000001\n",
      "Epoch 32/50\n",
      "266/266 [==============================] - 58s 220ms/step - loss: 0.1052 - lr: 8.1000e-04\n",
      "Learning Rate -> 0.0008100000000000001\n",
      "Epoch 33/50\n",
      "266/266 [==============================] - 58s 220ms/step - loss: 0.1009 - lr: 8.1000e-04\n",
      "Learning Rate -> 0.0008100000000000001\n",
      "Epoch 34/50\n",
      "266/266 [==============================] - 58s 220ms/step - loss: 0.0962 - lr: 8.1000e-04\n",
      "Learning Rate -> 0.0008100000000000001\n",
      "Epoch 35/50\n",
      "266/266 [==============================] - 58s 220ms/step - loss: 0.0923 - lr: 8.1000e-04\n",
      "Learning Rate -> 0.0008100000000000001\n",
      "Epoch 36/50\n",
      "266/266 [==============================] - 58s 220ms/step - loss: 0.0886 - lr: 8.1000e-04\n",
      "Learning Rate -> 0.0008100000000000001\n",
      "Epoch 37/50\n",
      "266/266 [==============================] - 58s 220ms/step - loss: 0.0848 - lr: 8.1000e-04\n",
      "Learning Rate -> 0.0008100000000000001\n",
      "Epoch 38/50\n",
      "266/266 [==============================] - 58s 220ms/step - loss: 0.0815 - lr: 8.1000e-04\n",
      "Learning Rate -> 0.0008100000000000001\n",
      "Epoch 39/50\n",
      "266/266 [==============================] - 59s 220ms/step - loss: 0.0781 - lr: 8.1000e-04\n",
      "Learning Rate -> 0.0008100000000000001\n",
      "Epoch 40/50\n",
      "266/266 [==============================] - 58s 220ms/step - loss: 0.0751 - lr: 8.1000e-04\n",
      "Learning Rate -> 0.0008100000000000001\n",
      "Epoch 41/50\n",
      "266/266 [==============================] - 59s 221ms/step - loss: 0.0722 - lr: 8.1000e-04\n",
      "Learning Rate -> 0.0008100000000000001\n",
      "Epoch 42/50\n",
      "266/266 [==============================] - 58s 220ms/step - loss: 0.0694 - lr: 8.1000e-04\n",
      "Learning Rate -> 0.0008100000000000001\n",
      "Epoch 43/50\n",
      "266/266 [==============================] - 59s 221ms/step - loss: 0.0668 - lr: 8.1000e-04\n",
      "Learning Rate -> 0.0008100000000000001\n",
      "Epoch 44/50\n",
      "266/266 [==============================] - 58s 220ms/step - loss: 0.0649 - lr: 8.1000e-04\n",
      "Learning Rate -> 0.0007290000000000002\n",
      "Epoch 45/50\n",
      "266/266 [==============================] - 58s 220ms/step - loss: 0.0617 - lr: 7.2900e-04\n",
      "Learning Rate -> 0.0007290000000000002\n",
      "Epoch 46/50\n",
      "266/266 [==============================] - 58s 220ms/step - loss: 0.0591 - lr: 7.2900e-04\n",
      "Learning Rate -> 0.0007290000000000002\n",
      "Epoch 47/50\n",
      "266/266 [==============================] - 58s 220ms/step - loss: 0.0569 - lr: 7.2900e-04\n",
      "Learning Rate -> 0.0007290000000000002\n",
      "Epoch 48/50\n",
      "266/266 [==============================] - 58s 220ms/step - loss: 0.0552 - lr: 7.2900e-04\n",
      "Learning Rate -> 0.0007290000000000002\n",
      "Epoch 49/50\n",
      "266/266 [==============================] - 59s 222ms/step - loss: 0.0535 - lr: 7.2900e-04\n",
      "Learning Rate -> 0.0007290000000000002\n",
      "Epoch 50/50\n",
      "266/266 [==============================] - 59s 222ms/step - loss: 0.0517 - lr: 7.2900e-04\n"
     ]
    },
    {
     "data": {
      "text/plain": [
       "<tensorflow.python.keras.callbacks.History at 0x1f2f74bfe88>"
      ]
     },
     "execution_count": 32,
     "metadata": {},
     "output_type": "execute_result"
    }
   ],
   "source": [
    "model  = Attention_Encoder_Decoder(20, 20, vocab_size_ita, vocab_size_eng, 'concat')\n",
    "model.compile(optimizer=optimizer, loss=loss_function)\n",
    "model.fit(train_dataloader, epochs=50,callbacks=[lr_reducer, tensorboard_callback])"
   ]
  },
  {
   "cell_type": "code",
   "execution_count": 33,
   "metadata": {},
   "outputs": [
    {
     "name": "stdout",
     "output_type": "stream",
     "text": [
      "Model: \"attention__encoder__decoder_1\"\n",
      "_________________________________________________________________\n",
      "Layer (type)                 Output Shape              Param #   \n",
      "=================================================================\n",
      "encoder_2 (Encoder)          multiple                  1618468   \n",
      "_________________________________________________________________\n",
      "decoder_4 (Decoder)          multiple                  4505757   \n",
      "=================================================================\n",
      "Total params: 6,124,225\n",
      "Trainable params: 6,124,225\n",
      "Non-trainable params: 0\n",
      "_________________________________________________________________\n"
     ]
    }
   ],
   "source": [
    "model.summary()"
   ]
  },
  {
   "cell_type": "code",
   "execution_count": 41,
   "metadata": {},
   "outputs": [],
   "source": [
    "# %tensorboard --logdir logs"
   ]
  },
  {
   "cell_type": "code",
   "execution_count": 43,
   "metadata": {},
   "outputs": [
    {
     "data": {
      "image/png": "[encoded data removed]",
      "text/plain": [
       "<IPython.core.display.Image object>"
      ]
     },
     "execution_count": 43,
     "metadata": {},
     "output_type": "execute_result"
    }
   ],
   "source": [
    "from IPython.display import Image\n",
    "Image(filename='F:\\\\Applied AI\\\\Assignments\\\\25.NLP Attention Mechanism\\\\Tensorboard Results\\\\Task_2_Concat_Model.PNG')"
   ]
  },
  {
   "cell_type": "code",
   "execution_count": 42,
   "metadata": {},
   "outputs": [],
   "source": [
    "model.save_weights(\"dot_model.hp5\", save_format=\"tf\")"
   ]
  },
  {
   "cell_type": "code",
   "execution_count": 34,
   "metadata": {},
   "outputs": [],
   "source": [
    "def get_encoder_data(input_sentence, tknizer_ita):\n",
    "    \n",
    "    input_seq = tknizer_ita.texts_to_sequences([input_sentence])\n",
    "    print('Tokenized sentence:', input_seq[0])\n",
    "    \n",
    "    input_seq = np.array(input_seq)\n",
    "\n",
    "    initial_state = model.layers[0].initialize_states(batch_size)\n",
    "    state_h = initial_state[0]\n",
    "    state_c = initial_state[1]\n",
    "\n",
    "    enc_output, enc_state_h, enc_state_c = model.layers[0](input_seq)\n",
    "    \n",
    "    states_values = [enc_state_h, enc_state_c]\n",
    "    \n",
    "    return enc_output, enc_state_h, enc_state_c"
   ]
  },
  {
   "cell_type": "code",
   "execution_count": 35,
   "metadata": {},
   "outputs": [],
   "source": [
    "# Refrence: https://medium.com/analytics-vidhya/understand-sequence-to-sequence-models-in-a-more-intuitive-way-1d517d8795bb\n",
    "def predict(input_sentence, tknizer_ita, plot=False, _print=True):\n",
    "    encoder_output, state_h, state_c = get_encoder_data(input_sentence, tknizer_ita)\n",
    "    \n",
    "    stop_condition=False\n",
    "    k=0\n",
    "    translated_sentence = ''\n",
    "    \n",
    "    target_word = np.zeros((1,1), dtype='float32')\n",
    "    target_word[0,0] = 1\n",
    "    \n",
    "    attention_matrix = []\n",
    "    \n",
    "    while not stop_condition:\n",
    "        output, state_h, state_c, attention_weights, context_vector = model.layers[1].onestepdecoder(target_word, encoder_output, state_h, state_c)\n",
    "        attention_weights = tf.reshape(attention_weights, (-1, ))\n",
    "        attention_matrix.append(attention_weights.numpy())\n",
    "        target_word = np.reshape(np.argmax(output), (1, 1))\n",
    "        if(_print):\n",
    "            print('Predicted Index ->', np.argmax(output))\n",
    "            print(target_word[0][0])\n",
    "        predicted_word = eng_index_word.get(int(target_word[0][0]), '')\n",
    "        k+=1\n",
    "        if ((k > len(input_sentence.split())) or target_word[0][0] == end_word_index):\n",
    "            stop_condition = True\n",
    "        translated_sentence = translated_sentence + ' ' + predicted_word\n",
    "        \n",
    "    if (plot):\n",
    "        fig = plt.figure(figsize=(5, 5))\n",
    "        ax = fig.add_subplot(1, 1, 1)\n",
    "        ax.matshow(attention_matrix, cmap='viridis')\n",
    "        fontdict = {'fontsize': 14}\n",
    "        ax.set_xticklabels(input_sentence.split(), fontdict=fontdict, rotation=90)\n",
    "        ax.set_yticklabels(translated_sentence.split(), fontdict=fontdict)\n",
    "        ax.xaxis.set_major_locator(ticker.MultipleLocator(1))\n",
    "        ax.yaxis.set_major_locator(ticker.MultipleLocator(1))\n",
    "        plt.show()\n",
    "\n",
    "    return translated_sentence"
   ]
  },
  {
   "cell_type": "code",
   "execution_count": 36,
   "metadata": {},
   "outputs": [
    {
     "name": "stdout",
     "output_type": "stream",
     "text": [
      "Tokenized sentence: [1, 2, 10, 11, 1702]\n",
      "Predicted Index -> 4\n",
      "4\n",
      "Predicted Index -> 51\n",
      "51\n",
      "Predicted Index -> 7\n",
      "7\n",
      "Predicted Index -> 12\n",
      "12\n",
      "Predicted Index -> 68\n",
      "68\n",
      "Predicted Index -> 1557\n",
      "1557\n"
     ]
    },
    {
     "data": {
      "image/png": "[encoded data removed]",
      "text/plain": [
       "<Figure size 360x360 with 1 Axes>"
      ]
     },
     "metadata": {
      "needs_background": "light"
     },
     "output_type": "display_data"
    },
    {
     "name": "stdout",
     "output_type": "stream",
     "text": [
      "Translated Sentence:  tom does not have an appointment\n"
     ]
    }
   ],
   "source": [
    "input_sentence = \"tom non ha un appuntamento\"\n",
    "\n",
    "output_sentence = predict(input_sentence, tknizer_ita, True, True)\n",
    "\n",
    "print('Translated Sentence:', output_sentence)"
   ]
  },
  {
   "cell_type": "code",
   "execution_count": 37,
   "metadata": {},
   "outputs": [
    {
     "name": "stdout",
     "output_type": "stream",
     "text": [
      "1000\n"
     ]
    }
   ],
   "source": [
    "# Blue Measurement\n",
    "reference = [i.replace('<start> ', '').split() for i in list(validation['english_inp'])]\n",
    "reference = reference[:1000]\n",
    "print(len(reference))"
   ]
  },
  {
   "cell_type": "code",
   "execution_count": 39,
   "metadata": {},
   "outputs": [
    {
     "name": "stdout",
     "output_type": "stream",
     "text": [
      "Given Sentence: voi siete mai stati a boston\n",
      "Tokenized sentence: [31, 57, 45, 357, 5, 65]\n"
     ]
    },
    {
     "data": {
      "image/png": "[encoded data removed]",
      "text/plain": [
       "<Figure size 360x360 with 1 Axes>"
      ]
     },
     "metadata": {
      "needs_background": "light"
     },
     "output_type": "display_data"
    },
    {
     "name": "stdout",
     "output_type": "stream",
     "text": [
      "Translated Sentence:  have you ever been to boston <end>\n",
      "Reference: ['have', 'you', 'ever', 'been', 'to', 'boston']\n",
      "BLEU score: 0.8091067115702212\n",
      "\n",
      "\n",
      "Given Sentence: tom è in pensione ora vero\n",
      "Tokenized sentence: [1, 3, 14, 1053, 79, 42]\n"
     ]
    },
    {
     "data": {
      "image/png": "[encoded data removed]",
      "text/plain": [
       "<Figure size 360x360 with 1 Axes>"
      ]
     },
     "metadata": {
      "needs_background": "light"
     },
     "output_type": "display_data"
    },
    {
     "name": "stdout",
     "output_type": "stream",
     "text": [
      "Translated Sentence:  tom is retired now is not he\n",
      "Reference: ['tom', 'is', 'retired', 'now', 'is', 'not', 'he']\n",
      "BLEU score: 1.0\n",
      "\n",
      "\n",
      "Given Sentence: il cavallo ha saltato oltre lo steccato\n",
      "Tokenized sentence: [9, 838, 10, 2977, 1961, 25, 3788]\n"
     ]
    },
    {
     "data": {
      "image/png": "[encoded data removed]",
      "text/plain": [
       "<Figure size 360x360 with 1 Axes>"
      ]
     },
     "metadata": {
      "needs_background": "light"
     },
     "output_type": "display_data"
    },
    {
     "name": "stdout",
     "output_type": "stream",
     "text": [
      "Translated Sentence:  the horse jumped over the fence <end>\n",
      "Reference: ['the', 'horse', 'jumped', 'over', 'the', 'fence']\n",
      "BLEU score: 0.8091067115702212\n",
      "\n",
      "\n",
      "Given Sentence: disse di avere un leggero raffreddore\n",
      "Tokenized sentence: [191, 4, 170, 11, 4060, 1157]\n"
     ]
    },
    {
     "data": {
      "image/png": "[encoded data removed]",
      "text/plain": [
       "<Figure size 360x360 with 1 Axes>"
      ]
     },
     "metadata": {
      "needs_background": "light"
     },
     "output_type": "display_data"
    },
    {
     "name": "stdout",
     "output_type": "stream",
     "text": [
      "Translated Sentence:  he said he had a slight cold\n",
      "Reference: ['she', 'said', 'she', 'had', 'a', 'slight', 'cold']\n",
      "BLEU score: 0.4347208719449914\n",
      "\n",
      "\n",
      "Given Sentence: la vecchia coppia ballava\n",
      "Tokenized sentence: [8, 854, 2261, 10914]\n"
     ]
    },
    {
     "data": {
      "image/png": "[encoded data removed]",
      "text/plain": [
       "<Figure size 360x360 with 1 Axes>"
      ]
     },
     "metadata": {
      "needs_background": "light"
     },
     "output_type": "display_data"
    },
    {
     "name": "stdout",
     "output_type": "stream",
     "text": [
      "Translated Sentence:  the old couple danced <end>\n",
      "Reference: ['the', 'old', 'couple', 'danced']\n",
      "BLEU score: 0.668740304976422\n",
      "\n",
      "\n",
      "Given Sentence: chiedetemi qualunque cosa\n",
      "Tokenized sentence: [8363, 783, 34]\n"
     ]
    },
    {
     "data": {
      "image/png": "[encoded data removed]",
      "text/plain": [
       "<Figure size 360x360 with 1 Axes>"
      ]
     },
     "metadata": {
      "needs_background": "light"
     },
     "output_type": "display_data"
    },
    {
     "name": "stdout",
     "output_type": "stream",
     "text": [
      "Translated Sentence:  ask me anything <end>\n",
      "Reference: ['ask', 'me', 'anything']\n",
      "BLEU score: 8.636168555094496e-78\n",
      "\n",
      "\n",
      "Given Sentence: la principessa sta indossando una corona doro\n",
      "Tokenized sentence: [8, 2987, 40, 641, 17, 8429, 3159]\n"
     ]
    },
    {
     "data": {
      "image/png": "[encoded data removed]",
      "text/plain": [
       "<Figure size 360x360 with 1 Axes>"
      ]
     },
     "metadata": {
      "needs_background": "light"
     },
     "output_type": "display_data"
    },
    {
     "name": "stdout",
     "output_type": "stream",
     "text": [
      "Translated Sentence:  the princess is wearing a different <end>\n",
      "Reference: ['the', 'princess', 'is', 'wearing', 'a', 'gold', 'tiara']\n",
      "BLEU score: 0.6147881529512643\n",
      "\n",
      "\n",
      "Given Sentence: il libro costa 4 dollari\n",
      "Tokenized sentence: [9, 122, 1259, 6370, 570]\n"
     ]
    },
    {
     "data": {
      "image/png": "[encoded data removed]",
      "text/plain": [
       "<Figure size 360x360 with 1 Axes>"
      ]
     },
     "metadata": {
      "needs_background": "light"
     },
     "output_type": "display_data"
    },
    {
     "name": "stdout",
     "output_type": "stream",
     "text": [
      "Translated Sentence:  the book costs 4 dollars <end>\n",
      "Reference: ['the', 'book', 'costs', '4', 'dollars']\n",
      "BLEU score: 0.7598356856515925\n",
      "\n",
      "\n",
      "Given Sentence: io comprai un libro\n",
      "Tokenized sentence: [7, 1433, 11, 122]\n"
     ]
    },
    {
     "data": {
      "image/png": "[encoded data removed]",
      "text/plain": [
       "<Figure size 360x360 with 1 Axes>"
      ]
     },
     "metadata": {
      "needs_background": "light"
     },
     "output_type": "display_data"
    },
    {
     "name": "stdout",
     "output_type": "stream",
     "text": [
      "Translated Sentence:  i bought a book <end>\n",
      "Reference: ['i', 'bought', 'a', 'book']\n",
      "BLEU score: 0.668740304976422\n",
      "\n",
      "\n",
      "Given Sentence: lho offesa\n",
      "Tokenized sentence: [163, 5413]\n"
     ]
    },
    {
     "data": {
      "image/png": "[encoded data removed]",
      "text/plain": [
       "<Figure size 360x360 with 1 Axes>"
      ]
     },
     "metadata": {
      "needs_background": "light"
     },
     "output_type": "display_data"
    },
    {
     "name": "stdout",
     "output_type": "stream",
     "text": [
      "Translated Sentence:  i have offended\n",
      "Reference: ['i', 'have', 'offended', 'you']\n",
      "BLEU score: 8.751273976943354e-78\n",
      "\n",
      "\n",
      "Average Blue score:  0.5765038743641135\n"
     ]
    }
   ],
   "source": [
    "blue_score = 0\n",
    "length = 10\n",
    "for i in np.random.choice(list(validation.index), length):\n",
    "    input_sentence = validation.loc[i, 'italian']\n",
    "    print('Given Sentence:', input_sentence)\n",
    "    translation = predict(input_sentence, tknizer_ita, True, False)\n",
    "    print('Translated Sentence:', translation)\n",
    "    reference = validation.loc[i, 'english_inp'].replace('<start> ', '').split()\n",
    "    print('Reference:', reference)\n",
    "    score = bleu.sentence_bleu([reference], translation.split())\n",
    "    print('BLEU score: {}'.format(score))\n",
    "    blue_score = blue_score + score\n",
    "    print('\\n')\n",
    "print('Average Blue score: ', (blue_score/length))"
   ]
  }
 ],
 "metadata": {
  "kernelspec": {
   "display_name": "Python 3.7 (tensorflow-gpu)",
   "language": "python",
   "name": "tensorflow_gpu"
  },
  "language_info": {
   "codemirror_mode": {
    "name": "ipython",
    "version": 3
   },
   "file_extension": ".py",
   "mimetype": "text/x-python",
   "name": "python",
   "nbconvert_exporter": "python",
   "pygments_lexer": "ipython3",
   "version": "3.7.9"
  }
 },
 "nbformat": 4,
 "nbformat_minor": 4
}
