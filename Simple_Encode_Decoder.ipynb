{
 "cells": [
  {
   "cell_type": "code",
   "execution_count": 1,
   "metadata": {},
   "outputs": [],
   "source": [
    "import matplotlib.pyplot as plt\n",
    "import pandas as pd\n",
    "import re\n",
    "import os\n",
    "import shutil\n",
    "import math\n",
    "import seaborn as sns\n",
    "import nltk.translate.bleu_score as bleu\n",
    "import matplotlib.ticker as ticker\n",
    "\n",
    "import tensorflow as tf\n",
    "from tensorflow.keras.layers import Embedding, LSTM, Dense, Activation, Dot\n",
    "from tensorflow.keras.models import Model\n",
    "from tensorflow.keras.preprocessing.text import Tokenizer\n",
    "from tensorflow.keras.preprocessing.sequence import pad_sequences\n",
    "import numpy as np\n",
    "from sklearn.model_selection import train_test_split\n",
    "from tqdm import tqdm\n",
    "\n",
    "import warnings\n",
    "warnings.filterwarnings('ignore')"
   ]
  },
  {
   "cell_type": "code",
   "execution_count": 2,
   "metadata": {},
   "outputs": [
    {
     "data": {
      "text/html": [
       "<div>\n",
       "<style scoped>\n",
       "    .dataframe tbody tr th:only-of-type {\n",
       "        vertical-align: middle;\n",
       "    }\n",
       "\n",
       "    .dataframe tbody tr th {\n",
       "        vertical-align: top;\n",
       "    }\n",
       "\n",
       "    .dataframe thead th {\n",
       "        text-align: right;\n",
       "    }\n",
       "</style>\n",
       "<table border=\"1\" class=\"dataframe\">\n",
       "  <thead>\n",
       "    <tr style=\"text-align: right;\">\n",
       "      <th></th>\n",
       "      <th>italian</th>\n",
       "      <th>english_inp</th>\n",
       "      <th>english_out</th>\n",
       "    </tr>\n",
       "  </thead>\n",
       "  <tbody>\n",
       "    <tr>\n",
       "      <th>0</th>\n",
       "      <td>ciao</td>\n",
       "      <td>&lt;start&gt; hi</td>\n",
       "      <td>hi &lt;end&gt;</td>\n",
       "    </tr>\n",
       "    <tr>\n",
       "      <th>1</th>\n",
       "      <td>corri</td>\n",
       "      <td>&lt;start&gt; run</td>\n",
       "      <td>run &lt;end&gt;</td>\n",
       "    </tr>\n",
       "    <tr>\n",
       "      <th>2</th>\n",
       "      <td>corra</td>\n",
       "      <td>&lt;start&gt; run</td>\n",
       "      <td>run &lt;end&gt;</td>\n",
       "    </tr>\n",
       "    <tr>\n",
       "      <th>3</th>\n",
       "      <td>correte</td>\n",
       "      <td>&lt;start&gt; run</td>\n",
       "      <td>run &lt;end&gt;</td>\n",
       "    </tr>\n",
       "    <tr>\n",
       "      <th>4</th>\n",
       "      <td>chi</td>\n",
       "      <td>&lt;start&gt; who</td>\n",
       "      <td>who &lt;end&gt;</td>\n",
       "    </tr>\n",
       "  </tbody>\n",
       "</table>\n",
       "</div>"
      ],
      "text/plain": [
       "   italian  english_inp english_out\n",
       "0     ciao   <start> hi    hi <end>\n",
       "1    corri  <start> run   run <end>\n",
       "2    corra  <start> run   run <end>\n",
       "3  correte  <start> run   run <end>\n",
       "4      chi  <start> who   who <end>"
      ]
     },
     "execution_count": 2,
     "metadata": {},
     "output_type": "execute_result"
    }
   ],
   "source": [
    "data = pd.read_csv('preprocessed_data.csv')\n",
    "data.head()"
   ]
  },
  {
   "cell_type": "code",
   "execution_count": 3,
   "metadata": {},
   "outputs": [
    {
     "name": "stdout",
     "output_type": "stream",
     "text": [
      "(272932, 3) (68234, 3)\n"
     ]
    }
   ],
   "source": [
    "train, validation = train_test_split(data, test_size=0.2, random_state=42)\n",
    "\n",
    "print(train.shape, validation.shape)"
   ]
  },
  {
   "cell_type": "code",
   "execution_count": 4,
   "metadata": {},
   "outputs": [
    {
     "data": {
      "text/html": [
       "<div>\n",
       "<style scoped>\n",
       "    .dataframe tbody tr th:only-of-type {\n",
       "        vertical-align: middle;\n",
       "    }\n",
       "\n",
       "    .dataframe tbody tr th {\n",
       "        vertical-align: top;\n",
       "    }\n",
       "\n",
       "    .dataframe thead th {\n",
       "        text-align: right;\n",
       "    }\n",
       "</style>\n",
       "<table border=\"1\" class=\"dataframe\">\n",
       "  <thead>\n",
       "    <tr style=\"text-align: right;\">\n",
       "      <th></th>\n",
       "      <th>italian</th>\n",
       "      <th>english_inp</th>\n",
       "      <th>english_out</th>\n",
       "    </tr>\n",
       "  </thead>\n",
       "  <tbody>\n",
       "    <tr>\n",
       "      <th>76648</th>\n",
       "      <td>lei ha acceso le candele</td>\n",
       "      <td>&lt;start&gt; she lit the candles</td>\n",
       "      <td>she lit the candles &lt;end&gt;</td>\n",
       "    </tr>\n",
       "    <tr>\n",
       "      <th>246895</th>\n",
       "      <td>ecco una foto di tom che balla</td>\n",
       "      <td>&lt;start&gt; here is a picture of tom dancing</td>\n",
       "      <td>here is a picture of tom dancing &lt;end&gt;</td>\n",
       "    </tr>\n",
       "    <tr>\n",
       "      <th>109427</th>\n",
       "      <td>labbiamo fatto a scuola</td>\n",
       "      <td>&lt;start&gt; we did that at school</td>\n",
       "      <td>we did that at school &lt;end&gt;</td>\n",
       "    </tr>\n",
       "    <tr>\n",
       "      <th>324544</th>\n",
       "      <td>lui dice sempre delle cose brutte su sua moglie</td>\n",
       "      <td>&lt;start&gt; he is always saying bad things about h...</td>\n",
       "      <td>he is always saying bad things about his wife ...</td>\n",
       "    </tr>\n",
       "    <tr>\n",
       "      <th>86191</th>\n",
       "      <td>io non volevo morire</td>\n",
       "      <td>&lt;start&gt; i did not want to die</td>\n",
       "      <td>i did not want to die &lt;end&gt;</td>\n",
       "    </tr>\n",
       "  </tbody>\n",
       "</table>\n",
       "</div>"
      ],
      "text/plain": [
       "                                                italian  \\\n",
       "76648                          lei ha acceso le candele   \n",
       "246895                   ecco una foto di tom che balla   \n",
       "109427                          labbiamo fatto a scuola   \n",
       "324544  lui dice sempre delle cose brutte su sua moglie   \n",
       "86191                              io non volevo morire   \n",
       "\n",
       "                                              english_inp  \\\n",
       "76648                         <start> she lit the candles   \n",
       "246895           <start> here is a picture of tom dancing   \n",
       "109427                      <start> we did that at school   \n",
       "324544  <start> he is always saying bad things about h...   \n",
       "86191                       <start> i did not want to die   \n",
       "\n",
       "                                              english_out  \n",
       "76648                           she lit the candles <end>  \n",
       "246895             here is a picture of tom dancing <end>  \n",
       "109427                        we did that at school <end>  \n",
       "324544  he is always saying bad things about his wife ...  \n",
       "86191                         i did not want to die <end>  "
      ]
     },
     "execution_count": 4,
     "metadata": {},
     "output_type": "execute_result"
    }
   ],
   "source": [
    "train.head()"
   ]
  },
  {
   "cell_type": "code",
   "execution_count": 5,
   "metadata": {},
   "outputs": [],
   "source": [
    "train.iloc[0,1] = str(train.iloc[0,1]) + ' <end>'"
   ]
  },
  {
   "cell_type": "code",
   "execution_count": 6,
   "metadata": {},
   "outputs": [
    {
     "data": {
      "text/html": [
       "<div>\n",
       "<style scoped>\n",
       "    .dataframe tbody tr th:only-of-type {\n",
       "        vertical-align: middle;\n",
       "    }\n",
       "\n",
       "    .dataframe tbody tr th {\n",
       "        vertical-align: top;\n",
       "    }\n",
       "\n",
       "    .dataframe thead th {\n",
       "        text-align: right;\n",
       "    }\n",
       "</style>\n",
       "<table border=\"1\" class=\"dataframe\">\n",
       "  <thead>\n",
       "    <tr style=\"text-align: right;\">\n",
       "      <th></th>\n",
       "      <th>italian</th>\n",
       "      <th>english_inp</th>\n",
       "      <th>english_out</th>\n",
       "    </tr>\n",
       "  </thead>\n",
       "  <tbody>\n",
       "    <tr>\n",
       "      <th>76648</th>\n",
       "      <td>lei ha acceso le candele</td>\n",
       "      <td>&lt;start&gt; she lit the candles &lt;end&gt;</td>\n",
       "      <td>she lit the candles &lt;end&gt;</td>\n",
       "    </tr>\n",
       "    <tr>\n",
       "      <th>246895</th>\n",
       "      <td>ecco una foto di tom che balla</td>\n",
       "      <td>&lt;start&gt; here is a picture of tom dancing</td>\n",
       "      <td>here is a picture of tom dancing &lt;end&gt;</td>\n",
       "    </tr>\n",
       "  </tbody>\n",
       "</table>\n",
       "</div>"
      ],
      "text/plain": [
       "                               italian  \\\n",
       "76648         lei ha acceso le candele   \n",
       "246895  ecco una foto di tom che balla   \n",
       "\n",
       "                                     english_inp  \\\n",
       "76648          <start> she lit the candles <end>   \n",
       "246895  <start> here is a picture of tom dancing   \n",
       "\n",
       "                                   english_out  \n",
       "76648                she lit the candles <end>  \n",
       "246895  here is a picture of tom dancing <end>  "
      ]
     },
     "execution_count": 6,
     "metadata": {},
     "output_type": "execute_result"
    }
   ],
   "source": [
    "train.head(2)"
   ]
  },
  {
   "cell_type": "code",
   "execution_count": 7,
   "metadata": {},
   "outputs": [
    {
     "data": {
      "text/html": [
       "<div>\n",
       "<style scoped>\n",
       "    .dataframe tbody tr th:only-of-type {\n",
       "        vertical-align: middle;\n",
       "    }\n",
       "\n",
       "    .dataframe tbody tr th {\n",
       "        vertical-align: top;\n",
       "    }\n",
       "\n",
       "    .dataframe thead th {\n",
       "        text-align: right;\n",
       "    }\n",
       "</style>\n",
       "<table border=\"1\" class=\"dataframe\">\n",
       "  <thead>\n",
       "    <tr style=\"text-align: right;\">\n",
       "      <th></th>\n",
       "      <th>italian</th>\n",
       "      <th>english_inp</th>\n",
       "      <th>english_out</th>\n",
       "    </tr>\n",
       "  </thead>\n",
       "  <tbody>\n",
       "    <tr>\n",
       "      <th>339758</th>\n",
       "      <td>tom e mary non vanno daccordo perché non hanno...</td>\n",
       "      <td>&lt;start&gt; tom and mary do not get along because ...</td>\n",
       "      <td>tom and mary do not get along because they hav...</td>\n",
       "    </tr>\n",
       "    <tr>\n",
       "      <th>113618</th>\n",
       "      <td>studi ogni giorno</td>\n",
       "      <td>&lt;start&gt; do you study every day</td>\n",
       "      <td>do you study every day &lt;end&gt;</td>\n",
       "    </tr>\n",
       "  </tbody>\n",
       "</table>\n",
       "</div>"
      ],
      "text/plain": [
       "                                                  italian  \\\n",
       "339758  tom e mary non vanno daccordo perché non hanno...   \n",
       "113618                                  studi ogni giorno   \n",
       "\n",
       "                                              english_inp  \\\n",
       "339758  <start> tom and mary do not get along because ...   \n",
       "113618                     <start> do you study every day   \n",
       "\n",
       "                                              english_out  \n",
       "339758  tom and mary do not get along because they hav...  \n",
       "113618                       do you study every day <end>  "
      ]
     },
     "execution_count": 7,
     "metadata": {},
     "output_type": "execute_result"
    }
   ],
   "source": [
    "validation.head(2)"
   ]
  },
  {
   "cell_type": "code",
   "execution_count": 8,
   "metadata": {},
   "outputs": [
    {
     "name": "stdout",
     "output_type": "stream",
     "text": [
      "Input Vocab Size: 26081\n"
     ]
    }
   ],
   "source": [
    "tknizer_ita = Tokenizer(filters='')\n",
    "tknizer_ita.fit_on_texts(train['italian'].values)\n",
    "\n",
    "vocab_size_ita=len(tknizer_ita.word_index.keys())\n",
    "print('Input Vocab Size:', vocab_size_ita)"
   ]
  },
  {
   "cell_type": "code",
   "execution_count": 9,
   "metadata": {},
   "outputs": [
    {
     "name": "stdout",
     "output_type": "stream",
     "text": [
      "Output Vocab Size: 12771\n"
     ]
    }
   ],
   "source": [
    "tknizer_eng = Tokenizer(filters='')\n",
    "tknizer_eng.fit_on_texts(train['english_inp'].values)\n",
    "\n",
    "vocab_size_eng=len(tknizer_eng.word_index.keys())\n",
    "print('Output Vocab Size:', vocab_size_eng)"
   ]
  },
  {
   "cell_type": "code",
   "execution_count": 10,
   "metadata": {},
   "outputs": [
    {
     "data": {
      "text/plain": [
       "(1, 10074)"
      ]
     },
     "execution_count": 10,
     "metadata": {},
     "output_type": "execute_result"
    }
   ],
   "source": [
    "tknizer_eng.word_index['<start>'], tknizer_eng.word_index['<end>']"
   ]
  },
  {
   "cell_type": "code",
   "execution_count": 11,
   "metadata": {},
   "outputs": [
    {
     "name": "stdout",
     "output_type": "stream",
     "text": [
      "10074\n"
     ]
    }
   ],
   "source": [
    "end_word_index = tknizer_eng.word_index['<end>']\n",
    "print(end_word_index)"
   ]
  },
  {
   "cell_type": "code",
   "execution_count": 12,
   "metadata": {},
   "outputs": [],
   "source": [
    "eng_index_word={}\n",
    "eng_word_index={}\n",
    "for key,value in tknizer_eng.word_index.items():\n",
    "    eng_index_word[value] = key \n",
    "    eng_word_index[key] = value"
   ]
  },
  {
   "cell_type": "code",
   "execution_count": 13,
   "metadata": {},
   "outputs": [],
   "source": [
    "class Dataset:\n",
    "    def __init__(self, data, tknizer_ita, tknizer_eng, max_len):\n",
    "        self.encoder_inps = data['italian'].values\n",
    "        self.decoder_inps = data['english_inp'].values\n",
    "        self.decoder_outs = data['english_out'].values\n",
    "        self.tknizer_eng = tknizer_eng\n",
    "        self.tknizer_ita = tknizer_ita\n",
    "        self.max_len = max_len\n",
    "\n",
    "    def __getitem__(self, i):\n",
    "        self.encoder_seq = self.tknizer_ita.texts_to_sequences([self.encoder_inps[i]]) # need to pass list of values\n",
    "        self.decoder_inp_seq = self.tknizer_eng.texts_to_sequences([self.decoder_inps[i]])\n",
    "        self.decoder_out_seq = self.tknizer_eng.texts_to_sequences([self.decoder_outs[i]])\n",
    "\n",
    "        self.encoder_seq = pad_sequences(self.encoder_seq, maxlen=self.max_len, dtype='int32', padding='post')\n",
    "        self.decoder_inp_seq = pad_sequences(self.decoder_inp_seq, maxlen=self.max_len, dtype='int32', padding='post')\n",
    "        self.decoder_out_seq = pad_sequences(self.decoder_out_seq, maxlen=self.max_len, dtype='int32', padding='post')\n",
    "        return self.encoder_seq, self.decoder_inp_seq, self.decoder_out_seq\n",
    "\n",
    "    def __len__(self): # your model.fit_gen requires this function\n",
    "        return len(self.encoder_inps)"
   ]
  },
  {
   "cell_type": "code",
   "execution_count": 14,
   "metadata": {},
   "outputs": [],
   "source": [
    "train_dataset = Dataset(train, tknizer_ita, tknizer_eng, 20)\n",
    "test_dataset  = Dataset(validation, tknizer_ita, tknizer_eng, 20)"
   ]
  },
  {
   "cell_type": "code",
   "execution_count": 15,
   "metadata": {},
   "outputs": [
    {
     "name": "stdout",
     "output_type": "stream",
     "text": [
      "(array([[  19,   10, 2403,   23, 2172,    0,    0,    0,    0,    0,    0,\n",
      "           0,    0,    0,    0,    0,    0,    0,    0,    0]]), array([[    1,    37,  2018,     8,  1826, 10074,     0,     0,     0,\n",
      "            0,     0,     0,     0,     0,     0,     0,     0,     0,\n",
      "            0,     0]]), array([[   37,  2018,     8,  1826, 10074,     0,     0,     0,     0,\n",
      "            0,     0,     0,     0,     0,     0,     0,     0,     0,\n",
      "            0,     0]]))\n",
      "(array([[ 523,   17,  449,    4,    1,    6, 4559,    0,    0,    0,    0,\n",
      "           0,    0,    0,    0,    0,    0,    0,    0,    0]]), array([[  1,  41,   6,  10, 415,  23,   4, 849,   0,   0,   0,   0,   0,\n",
      "          0,   0,   0,   0,   0,   0,   0]]), array([[   41,     6,    10,   415,    23,     4,   849, 10074,     0,\n",
      "            0,     0,     0,     0,     0,     0,     0,     0,     0,\n",
      "            0,     0]]))\n",
      "\n",
      "\n"
     ]
    },
    {
     "data": {
      "text/html": [
       "<div>\n",
       "<style scoped>\n",
       "    .dataframe tbody tr th:only-of-type {\n",
       "        vertical-align: middle;\n",
       "    }\n",
       "\n",
       "    .dataframe tbody tr th {\n",
       "        vertical-align: top;\n",
       "    }\n",
       "\n",
       "    .dataframe thead th {\n",
       "        text-align: right;\n",
       "    }\n",
       "</style>\n",
       "<table border=\"1\" class=\"dataframe\">\n",
       "  <thead>\n",
       "    <tr style=\"text-align: right;\">\n",
       "      <th></th>\n",
       "      <th>italian</th>\n",
       "      <th>english_inp</th>\n",
       "      <th>english_out</th>\n",
       "    </tr>\n",
       "  </thead>\n",
       "  <tbody>\n",
       "    <tr>\n",
       "      <th>76648</th>\n",
       "      <td>lei ha acceso le candele</td>\n",
       "      <td>&lt;start&gt; she lit the candles &lt;end&gt;</td>\n",
       "      <td>she lit the candles &lt;end&gt;</td>\n",
       "    </tr>\n",
       "    <tr>\n",
       "      <th>246895</th>\n",
       "      <td>ecco una foto di tom che balla</td>\n",
       "      <td>&lt;start&gt; here is a picture of tom dancing</td>\n",
       "      <td>here is a picture of tom dancing &lt;end&gt;</td>\n",
       "    </tr>\n",
       "  </tbody>\n",
       "</table>\n",
       "</div>"
      ],
      "text/plain": [
       "                               italian  \\\n",
       "76648         lei ha acceso le candele   \n",
       "246895  ecco una foto di tom che balla   \n",
       "\n",
       "                                     english_inp  \\\n",
       "76648          <start> she lit the candles <end>   \n",
       "246895  <start> here is a picture of tom dancing   \n",
       "\n",
       "                                   english_out  \n",
       "76648                she lit the candles <end>  \n",
       "246895  here is a picture of tom dancing <end>  "
      ]
     },
     "execution_count": 15,
     "metadata": {},
     "output_type": "execute_result"
    }
   ],
   "source": [
    "print(train_dataset[0])\n",
    "print(train_dataset[1])\n",
    "print('\\n')\n",
    "train.head(2)"
   ]
  },
  {
   "cell_type": "code",
   "execution_count": 16,
   "metadata": {},
   "outputs": [],
   "source": [
    "class Dataloder(tf.keras.utils.Sequence):    \n",
    "    def __init__(self, dataset, batch_size=1):\n",
    "        self.dataset = dataset\n",
    "        self.batch_size = batch_size\n",
    "        self.indexes = np.arange(len(self.dataset.encoder_inps))\n",
    "\n",
    "\n",
    "    def __getitem__(self, i):\n",
    "        start = i * self.batch_size\n",
    "        stop = (i + 1) * self.batch_size\n",
    "        data = []\n",
    "        for j in range(start, stop):\n",
    "            data.append(self.dataset[j])\n",
    "\n",
    "        batch = [np.squeeze(np.stack(samples, axis=1), axis=0) for samples in zip(*data)]\n",
    "        # we are creating data like ([italian, english_inp], english_out) these are already converted into seq\n",
    "        return tuple([[batch[0],batch[1]],batch[2]])\n",
    "\n",
    "    def __len__(self):  # your model.fit_gen requires this function\n",
    "        return len(self.indexes) // self.batch_size\n",
    "\n",
    "    def on_epoch_end(self):\n",
    "        self.indexes = np.random.permutation(self.indexes)"
   ]
  },
  {
   "cell_type": "code",
   "execution_count": 17,
   "metadata": {},
   "outputs": [
    {
     "name": "stdout",
     "output_type": "stream",
     "text": [
      "(1024, 20) (1024, 20)\n"
     ]
    }
   ],
   "source": [
    "batch_size = 1024\n",
    "\n",
    "train_dataloader = Dataloder(train_dataset, batch_size=batch_size)\n",
    "test_dataloader = Dataloder(test_dataset, batch_size=batch_size)\n",
    "\n",
    "print(train_dataloader[0][0][0].shape, test_dataloader[0][0][0].shape)"
   ]
  },
  {
   "cell_type": "code",
   "execution_count": 18,
   "metadata": {},
   "outputs": [],
   "source": [
    "class Encoder(tf.keras.layers.Layer):\n",
    "    def __init__(self, vocab_size, embedding_dim, enc_units, input_length):\n",
    "        super().__init__()\n",
    "        self.vocab_size = vocab_size\n",
    "        self.embedding_dim = embedding_dim\n",
    "        self.input_length = input_length\n",
    "        self.enc_units= enc_units\n",
    "        self.lstm_output = 0\n",
    "        self.lstm_state_h=0\n",
    "        self.lstm_state_c=0\n",
    "        \n",
    "    def build(self, input_shape):\n",
    "        self.embedding = Embedding(input_dim=self.vocab_size, output_dim=self.embedding_dim, input_length=self.input_length,\n",
    "                           mask_zero=True, name=\"embedding_layer_encoder\")\n",
    "        self.lstm = LSTM(self.enc_units, return_state=True, return_sequences=True, name=\"Encoder_LSTM\")\n",
    "        \n",
    "    def call(self, input_sentances, training=True):\n",
    "        input_embedd                           = self.embedding(input_sentances)\n",
    "        self.lstm_output, self.lstm_state_h,self.lstm_state_c = self.lstm(input_embedd)\n",
    "        return self.lstm_output, self.lstm_state_h,self.lstm_state_c\n",
    "    \n",
    "    def initialize_states(self, batch_size):\n",
    "        self.lstm_state_h = tf.zeros((batch_size, self.enc_units))\n",
    "        self.lstm_state_c = tf.zeros((batch_size, self.enc_units))\n",
    "        return self.lstm_state_h, self.lstm_state_c"
   ]
  },
  {
   "cell_type": "markdown",
   "metadata": {},
   "source": [
    "<font color='orange'>**Grader function - 1**</font>"
   ]
  },
  {
   "cell_type": "code",
   "execution_count": 19,
   "metadata": {},
   "outputs": [
    {
     "name": "stdout",
     "output_type": "stream",
     "text": [
      "True\n"
     ]
    }
   ],
   "source": [
    "def grader_check_encoder():\n",
    "    '''\n",
    "        vocab-size: Unique words of the input language,\n",
    "        embedding_size: output embedding dimension for each word after embedding layer,\n",
    "        lstm_size: Number of lstm units,\n",
    "        input_length: Length of the input sentence,\n",
    "        batch_size\n",
    "    '''\n",
    "    vocab_size=10\n",
    "    embedding_size=20\n",
    "    lstm_size=32\n",
    "    input_length=10\n",
    "    batch_size=16\n",
    "    #Intialzing encoder \n",
    "    encoder=Encoder(vocab_size,embedding_size,lstm_size,input_length)\n",
    "    input_sequence=tf.random.uniform(shape=[batch_size,input_length],maxval=vocab_size,minval=0,dtype=tf.int32)\n",
    "    #Intializing encoder initial states\n",
    "    initial_state=encoder.initialize_states(batch_size)\n",
    "    \n",
    "    encoder_output,state_h,state_c=encoder(input_sequence,initial_state)\n",
    "    \n",
    "    assert(encoder_output.shape==(batch_size,input_length,lstm_size) and state_h.shape==(batch_size,lstm_size) and state_c.shape==(batch_size,lstm_size))\n",
    "    return True\n",
    "print(grader_check_encoder())"
   ]
  },
  {
   "cell_type": "code",
   "execution_count": 22,
   "metadata": {},
   "outputs": [],
   "source": [
    "class Decoder(tf.keras.layers.Layer):\n",
    "    def __init__(self, vocab_size, embedding_dim, dec_units, input_length):\n",
    "        super().__init__()\n",
    "        self.vocab_size = vocab_size\n",
    "        self.embedding_dim = 100\n",
    "        self.dec_units = dec_units\n",
    "        self.input_length = input_length\n",
    "        self.embedding = Embedding(input_dim=self.vocab_size, output_dim=self.embedding_dim, input_length=self.input_length,\n",
    "                           mask_zero=True, name=\"embedding_layer_decoder\", weights=None, trainable=True)\n",
    "        self.lstm = LSTM(self.dec_units, return_sequences=True, return_state=True, name=\"Encoder_LSTM\")\n",
    "    \n",
    "    def call(self, target_sentances, states):\n",
    "        target_embedd = self.embedding(target_sentances)\n",
    "        lstm_output, _, _ = self.lstm(target_embedd, initial_state=[states[0], states[1]])\n",
    "        return lstm_output, _, _"
   ]
  },
  {
   "cell_type": "markdown",
   "metadata": {},
   "source": [
    "<font color='orange'>**Grader function - 2**</font>"
   ]
  },
  {
   "cell_type": "code",
   "execution_count": 23,
   "metadata": {},
   "outputs": [
    {
     "name": "stdout",
     "output_type": "stream",
     "text": [
      "True\n"
     ]
    }
   ],
   "source": [
    "def grader_decoder():\n",
    "    '''\n",
    "        out_vocab_size: Unique words of the target language,\n",
    "        embedding_size: output embedding dimension for each word after embedding layer,\n",
    "        dec_units: Number of lstm units in decoder,\n",
    "        input_length: Length of the input sentence,\n",
    "        batch_size\n",
    "    '''\n",
    "    out_vocab_size=13\n",
    "    embedding_dim=12 \n",
    "    input_length=10\n",
    "    dec_units=16 \n",
    "    batch_size=32\n",
    "    \n",
    "    target_sentences=tf.random.uniform(shape=(batch_size,input_length),maxval=10,minval=0,dtype=tf.int32)\n",
    "    encoder_output=tf.random.uniform(shape=[batch_size,input_length,dec_units])\n",
    "    state_h=tf.random.uniform(shape=[batch_size,dec_units])\n",
    "    state_c=tf.random.uniform(shape=[batch_size,dec_units])\n",
    "    states=[state_h,state_c]\n",
    "    decoder=Decoder(out_vocab_size, embedding_dim, dec_units,input_length )\n",
    "    output,_,_=decoder(target_sentences, states)\n",
    "    assert(output.shape==(batch_size,input_length,dec_units))\n",
    "    return True\n",
    "print(grader_decoder())"
   ]
  },
  {
   "cell_type": "code",
   "execution_count": 24,
   "metadata": {},
   "outputs": [
    {
     "name": "stdout",
     "output_type": "stream",
     "text": [
      "Old Log folder is deleted\n",
      "New Log folder is created\n"
     ]
    }
   ],
   "source": [
    "# Reference: Assignment\n",
    "if(os.path.exists('logs')):\n",
    "    shutil.rmtree('logs')\n",
    "    print('Old Log folder is deleted')\n",
    "\n",
    "%reload_ext tensorboard\n",
    "\n",
    "log_dir=\"logs\"\n",
    "tensorboard_callback = tf.keras.callbacks.TensorBoard(log_dir=log_dir, \n",
    "                                                      histogram_freq=0, \n",
    "                                                      write_graph=True)\n",
    "print('New Log folder is created')"
   ]
  },
  {
   "cell_type": "code",
   "execution_count": 25,
   "metadata": {},
   "outputs": [],
   "source": [
    "def step_decay(epoch):\n",
    "    import math\n",
    "    initial_lrate = 0.001\n",
    "    drop = 0.9\n",
    "    epochs_drop = 15\n",
    "    lrate = initial_lrate * math.pow(drop, math.floor((1+epoch)/epochs_drop))\n",
    "    print('Learning Rate ->', lrate)\n",
    "    return lrate\n",
    "\n",
    "lr_reducer = tf.keras.callbacks.LearningRateScheduler(step_decay)"
   ]
  },
  {
   "cell_type": "code",
   "execution_count": 26,
   "metadata": {},
   "outputs": [],
   "source": [
    "class Encoder_decoder(tf.keras.Model):\n",
    "    def __init__(self, encoder_inputs_length, decoder_inputs_length, batch_size=1024):\n",
    "        super().__init__()\n",
    "        self.encoder = Encoder(vocab_size_ita+1, 50, 256, encoder_inputs_length)\n",
    "        self.decoder = Decoder(vocab_size_eng+1, 100, 256, decoder_inputs_length)\n",
    "        self.dense   = Dense(vocab_size_eng, activation='softmax')\n",
    "        \n",
    "    def call(self, data):\n",
    "        input_data, output = data[0], data[1]\n",
    "        initial_state = self.encoder.initialize_states(batch_size)\n",
    "        encoder_output, encoder_h, encoder_c = self.encoder(input_data, initial_state)\n",
    "        decoder_output, encoder_h, encoder_c = self.decoder(output, [encoder_h, encoder_c])\n",
    "        output = self.dense(decoder_output)\n",
    "        return output"
   ]
  },
  {
   "cell_type": "code",
   "execution_count": 27,
   "metadata": {},
   "outputs": [
    {
     "name": "stdout",
     "output_type": "stream",
     "text": [
      "Learning Rate -> 0.001\n",
      "Epoch 1/50\n",
      "266/266 [==============================] - 95s 358ms/step - loss: 7.8888 - accuracy: 0.6686 - lr: 0.0010\n",
      "Learning Rate -> 0.001\n",
      "Epoch 2/50\n",
      "266/266 [==============================] - 95s 357ms/step - loss: 7.2058 - accuracy: 0.7471 - lr: 0.0010\n",
      "Learning Rate -> 0.001\n",
      "Epoch 3/50\n",
      "266/266 [==============================] - 95s 357ms/step - loss: 6.6688 - accuracy: 0.7726 - lr: 0.0010\n",
      "Learning Rate -> 0.001\n",
      "Epoch 4/50\n",
      "266/266 [==============================] - 95s 357ms/step - loss: 6.1767 - accuracy: 0.7967 - lr: 0.0010\n",
      "Learning Rate -> 0.001\n",
      "Epoch 5/50\n",
      "266/266 [==============================] - 95s 358ms/step - loss: 5.7140 - accuracy: 0.8164 - lr: 0.0010\n",
      "Learning Rate -> 0.001\n",
      "Epoch 6/50\n",
      "266/266 [==============================] - 95s 358ms/step - loss: 5.2724 - accuracy: 0.8327 - lr: 0.0010\n",
      "Learning Rate -> 0.001\n",
      "Epoch 7/50\n",
      "266/266 [==============================] - 95s 358ms/step - loss: 4.8487 - accuracy: 0.8455 - lr: 0.0010\n",
      "Learning Rate -> 0.001\n",
      "Epoch 8/50\n",
      "266/266 [==============================] - 95s 358ms/step - loss: 4.4375 - accuracy: 0.8565 - lr: 0.0010\n",
      "Learning Rate -> 0.001\n",
      "Epoch 9/50\n",
      "266/266 [==============================] - 95s 358ms/step - loss: 4.0356 - accuracy: 0.8666 - lr: 0.0010\n",
      "Learning Rate -> 0.001\n",
      "Epoch 10/50\n",
      "266/266 [==============================] - 95s 358ms/step - loss: 3.6418 - accuracy: 0.8761 - lr: 0.0010\n",
      "Learning Rate -> 0.001\n",
      "Epoch 11/50\n",
      "266/266 [==============================] - 95s 358ms/step - loss: 3.2567 - accuracy: 0.8851 - lr: 0.0010\n",
      "Learning Rate -> 0.001\n",
      "Epoch 12/50\n",
      "266/266 [==============================] - 95s 358ms/step - loss: 2.8814 - accuracy: 0.8934 - lr: 0.0010\n",
      "Learning Rate -> 0.001\n",
      "Epoch 13/50\n",
      "266/266 [==============================] - 95s 359ms/step - loss: 2.5181 - accuracy: 0.9012 - lr: 0.0010\n",
      "Learning Rate -> 0.001\n",
      "Epoch 14/50\n",
      "266/266 [==============================] - 94s 355ms/step - loss: 2.1708 - accuracy: 0.9083 - lr: 0.0010\n",
      "Learning Rate -> 0.0009000000000000001\n",
      "Epoch 15/50\n",
      "266/266 [==============================] - 94s 355ms/step - loss: 1.8583 - accuracy: 0.9149 - lr: 9.0000e-04\n",
      "Learning Rate -> 0.0009000000000000001\n",
      "Epoch 16/50\n",
      "266/266 [==============================] - 94s 355ms/step - loss: 1.5861 - accuracy: 0.9204 - lr: 9.0000e-04\n",
      "Learning Rate -> 0.0009000000000000001\n",
      "Epoch 17/50\n",
      "266/266 [==============================] - 94s 355ms/step - loss: 1.3414 - accuracy: 0.9253 - lr: 9.0000e-04\n",
      "Learning Rate -> 0.0009000000000000001\n",
      "Epoch 18/50\n",
      "266/266 [==============================] - 94s 355ms/step - loss: 1.1271 - accuracy: 0.9299 - lr: 9.0000e-04\n",
      "Learning Rate -> 0.0009000000000000001\n",
      "Epoch 19/50\n",
      "266/266 [==============================] - 94s 355ms/step - loss: 0.9453 - accuracy: 0.9341 - lr: 9.0000e-04\n",
      "Learning Rate -> 0.0009000000000000001\n",
      "Epoch 20/50\n",
      "266/266 [==============================] - 94s 355ms/step - loss: 0.7958 - accuracy: 0.9378 - lr: 9.0000e-04\n",
      "Learning Rate -> 0.0009000000000000001\n",
      "Epoch 21/50\n",
      "266/266 [==============================] - 94s 355ms/step - loss: 0.6741 - accuracy: 0.9414 - lr: 9.0000e-04\n",
      "Learning Rate -> 0.0009000000000000001\n",
      "Epoch 22/50\n",
      "266/266 [==============================] - 94s 355ms/step - loss: 0.5769 - accuracy: 0.9446 - lr: 9.0000e-04\n",
      "Learning Rate -> 0.0009000000000000001\n",
      "Epoch 23/50\n",
      "266/266 [==============================] - 94s 355ms/step - loss: 0.4990 - accuracy: 0.9475 - lr: 9.0000e-04\n",
      "Learning Rate -> 0.0009000000000000001\n",
      "Epoch 24/50\n",
      "266/266 [==============================] - 94s 355ms/step - loss: 0.4368 - accuracy: 0.9501 - lr: 9.0000e-04\n",
      "Learning Rate -> 0.0009000000000000001\n",
      "Epoch 25/50\n",
      "266/266 [==============================] - 95s 358ms/step - loss: 0.3857 - accuracy: 0.9528 - lr: 9.0000e-04\n",
      "Learning Rate -> 0.0009000000000000001\n",
      "Epoch 26/50\n",
      "266/266 [==============================] - 95s 358ms/step - loss: 0.3439 - accuracy: 0.9551 - lr: 9.0000e-04\n",
      "Learning Rate -> 0.0009000000000000001\n",
      "Epoch 27/50\n",
      "266/266 [==============================] - 95s 358ms/step - loss: 0.3099 - accuracy: 0.9571 - lr: 9.0000e-04\n",
      "Learning Rate -> 0.0009000000000000001\n",
      "Epoch 28/50\n",
      "266/266 [==============================] - 95s 358ms/step - loss: 0.2810 - accuracy: 0.9591 - lr: 9.0000e-04\n",
      "Learning Rate -> 0.0009000000000000001\n",
      "Epoch 29/50\n",
      "266/266 [==============================] - 95s 358ms/step - loss: 0.2565 - accuracy: 0.9610 - lr: 9.0000e-04\n",
      "Learning Rate -> 0.0008100000000000001\n",
      "Epoch 30/50\n",
      "266/266 [==============================] - 95s 358ms/step - loss: 0.2347 - accuracy: 0.9631 - lr: 8.1000e-04\n",
      "Learning Rate -> 0.0008100000000000001\n",
      "Epoch 31/50\n",
      "266/266 [==============================] - 95s 358ms/step - loss: 0.2179 - accuracy: 0.9647 - lr: 8.1000e-04\n",
      "Learning Rate -> 0.0008100000000000001\n",
      "Epoch 32/50\n",
      "266/266 [==============================] - 95s 359ms/step - loss: 0.2032 - accuracy: 0.9660 - lr: 8.1000e-04\n",
      "Learning Rate -> 0.0008100000000000001\n",
      "Epoch 33/50\n",
      "266/266 [==============================] - 95s 358ms/step - loss: 0.1902 - accuracy: 0.9672 - lr: 8.1000e-04\n",
      "Learning Rate -> 0.0008100000000000001\n",
      "Epoch 34/50\n",
      "266/266 [==============================] - 95s 358ms/step - loss: 0.1788 - accuracy: 0.9684 - lr: 8.1000e-04\n",
      "Learning Rate -> 0.0008100000000000001\n",
      "Epoch 35/50\n",
      "266/266 [==============================] - 95s 358ms/step - loss: 0.1681 - accuracy: 0.9696 - lr: 8.1000e-04\n",
      "Learning Rate -> 0.0008100000000000001\n",
      "Epoch 36/50\n",
      "266/266 [==============================] - 95s 358ms/step - loss: 0.1583 - accuracy: 0.9708 - lr: 8.1000e-04\n",
      "Learning Rate -> 0.0008100000000000001\n",
      "Epoch 37/50\n",
      "266/266 [==============================] - 95s 358ms/step - loss: 0.1498 - accuracy: 0.9717 - lr: 8.1000e-04\n",
      "Learning Rate -> 0.0008100000000000001\n",
      "Epoch 38/50\n",
      "266/266 [==============================] - 100s 376ms/step - loss: 0.1415 - accuracy: 0.9729 - lr: 8.1000e-04\n",
      "Learning Rate -> 0.0008100000000000001\n",
      "Epoch 39/50\n",
      "266/266 [==============================] - 101s 378ms/step - loss: 0.1342 - accuracy: 0.9739 - lr: 8.1000e-04\n",
      "Learning Rate -> 0.0008100000000000001\n",
      "Epoch 40/50\n",
      "266/266 [==============================] - 99s 374ms/step - loss: 0.1279 - accuracy: 0.9747 - lr: 8.1000e-04\n",
      "Learning Rate -> 0.0008100000000000001\n",
      "Epoch 41/50\n",
      "266/266 [==============================] - 98s 367ms/step - loss: 0.1218 - accuracy: 0.9755 - lr: 8.1000e-04\n",
      "Learning Rate -> 0.0008100000000000001\n",
      "Epoch 42/50\n",
      "266/266 [==============================] - 100s 375ms/step - loss: 0.1162 - accuracy: 0.9764 - lr: 8.1000e-04\n",
      "Learning Rate -> 0.0008100000000000001\n",
      "Epoch 43/50\n",
      "266/266 [==============================] - 98s 368ms/step - loss: 0.1108 - accuracy: 0.9772 - lr: 8.1000e-04\n",
      "Learning Rate -> 0.0008100000000000001\n",
      "Epoch 44/50\n",
      "266/266 [==============================] - 104s 390ms/step - loss: 0.1062 - accuracy: 0.9778 - lr: 8.1000e-04\n",
      "Learning Rate -> 0.0007290000000000002\n",
      "Epoch 45/50\n",
      "266/266 [==============================] - 100s 374ms/step - loss: 0.1006 - accuracy: 0.9790 - lr: 7.2900e-04\n",
      "Learning Rate -> 0.0007290000000000002\n",
      "Epoch 46/50\n",
      "266/266 [==============================] - 97s 366ms/step - loss: 0.0964 - accuracy: 0.9797 - lr: 7.2900e-04\n",
      "Learning Rate -> 0.0007290000000000002\n",
      "Epoch 47/50\n",
      "266/266 [==============================] - 102s 384ms/step - loss: 0.0929 - accuracy: 0.9803 - lr: 7.2900e-04\n",
      "Learning Rate -> 0.0007290000000000002\n",
      "Epoch 48/50\n",
      "266/266 [==============================] - 103s 386ms/step - loss: 0.0898 - accuracy: 0.9808 - lr: 7.2900e-04\n",
      "Learning Rate -> 0.0007290000000000002\n",
      "Epoch 49/50\n",
      "266/266 [==============================] - 101s 381ms/step - loss: 0.0863 - accuracy: 0.9814 - lr: 7.2900e-04\n",
      "Learning Rate -> 0.0007290000000000002\n",
      "Epoch 50/50\n",
      "266/266 [==============================] - 101s 381ms/step - loss: 0.0834 - accuracy: 0.9819 - lr: 7.2900e-04\n"
     ]
    },
    {
     "data": {
      "text/plain": [
       "<tensorflow.python.keras.callbacks.History at 0x22a21d87108>"
      ]
     },
     "execution_count": 27,
     "metadata": {},
     "output_type": "execute_result"
    }
   ],
   "source": [
    "model  = Encoder_decoder(20, 20, batch_size)\n",
    "train_steps = train.shape[0]//batch_size\n",
    "valid_steps = validation.shape[0]//batch_size\n",
    "model.compile(optimizer=tf.keras.optimizers.Adam(0.001), loss='sparse_categorical_crossentropy', metrics=['accuracy'])\n",
    "model.fit(train_dataloader, epochs=50, callbacks=[lr_reducer, tensorboard_callback])"
   ]
  },
  {
   "cell_type": "code",
   "execution_count": 28,
   "metadata": {},
   "outputs": [
    {
     "name": "stdout",
     "output_type": "stream",
     "text": [
      "Model: \"encoder_decoder\"\n",
      "_________________________________________________________________\n",
      "Layer (type)                 Output Shape              Param #   \n",
      "=================================================================\n",
      "encoder_1 (Encoder)          multiple                  1618468   \n",
      "_________________________________________________________________\n",
      "decoder_1 (Decoder)          multiple                  1642768   \n",
      "_________________________________________________________________\n",
      "dense (Dense)                multiple                  3282147   \n",
      "=================================================================\n",
      "Total params: 6,543,383\n",
      "Trainable params: 6,543,383\n",
      "Non-trainable params: 0\n",
      "_________________________________________________________________\n"
     ]
    }
   ],
   "source": [
    "model.summary()"
   ]
  },
  {
   "cell_type": "code",
   "execution_count": 44,
   "metadata": {},
   "outputs": [],
   "source": [
    "model.save_weights(\"Task_1.hp5\", save_format=\"tf\")"
   ]
  },
  {
   "cell_type": "code",
   "execution_count": 31,
   "metadata": {},
   "outputs": [],
   "source": [
    "# %tensorboard --logdir logs"
   ]
  },
  {
   "cell_type": "code",
   "execution_count": 32,
   "metadata": {},
   "outputs": [
    {
     "data": {
      "image/png": "[encoded data removed]",
      "text/plain": [
       "<IPython.core.display.Image object>"
      ]
     },
     "execution_count": 32,
     "metadata": {},
     "output_type": "execute_result"
    }
   ],
   "source": [
    "from IPython.display import Image\n",
    "Image(filename='F:\\\\Applied AI\\\\Assignments\\\\25.NLP Attention Mechanism\\\\Tensorboard Results\\\\Task_1.PNG')"
   ]
  },
  {
   "cell_type": "code",
   "execution_count": 33,
   "metadata": {},
   "outputs": [],
   "source": [
    "def get_encoder_data(input_sentence, tknizer_ita):\n",
    "    \n",
    "    input_seq = tknizer_ita.texts_to_sequences([input_sentence])\n",
    "    print('Tokenized sentence:', input_seq[0])\n",
    "    \n",
    "    input_seq = np.array(input_seq)\n",
    "\n",
    "    initial_state = model.layers[0].initialize_states(batch_size)\n",
    "    state_h = initial_state[0]\n",
    "    state_c = initial_state[1]\n",
    "\n",
    "    enc_output, enc_state_h, enc_state_c = model.layers[0](input_seq)\n",
    "    states_values = [enc_state_h, enc_state_c]\n",
    "    \n",
    "    return enc_output, enc_state_h, enc_state_c"
   ]
  },
  {
   "cell_type": "code",
   "execution_count": 40,
   "metadata": {},
   "outputs": [],
   "source": [
    "# Refrence: https://medium.com/analytics-vidhya/understand-sequence-to-sequence-models-in-a-more-intuitive-way-1d517d8795bb\n",
    "def predict(input_sentence, tknizer_ita, print_=False):\n",
    "    encoder_output, state_h, state_c = get_encoder_data(input_sentence, tknizer_ita)\n",
    "    \n",
    "    stop_condition=False\n",
    "    k=0\n",
    "    translated_sentence = ''\n",
    "    \n",
    "    target_word = np.zeros((1,1), dtype='float32')\n",
    "    target_word[0,0] = 1\n",
    "    \n",
    "    while not stop_condition:\n",
    "        target_word_emb = model.layers[1].embedding(target_word)\n",
    "        output, state_h, state_c = model.layers[1](target_word, [state_h, state_c])\n",
    "        output = model.layers[2](output)\n",
    "        target_word = np.reshape(np.argmax(output), (1, 1))\n",
    "        if(print_):\n",
    "            print('Predicted Index ->', np.argmax(output))\n",
    "            print(target_word[0][0])\n",
    "        predicted_word = eng_index_word.get(int(target_word[0][0]), '')\n",
    "        k+=1\n",
    "        if ((k > len(input_sentence.split())) or target_word[0][0] == end_word_index):\n",
    "            stop_condition = True\n",
    "        translated_sentence = translated_sentence + ' ' + predicted_word\n",
    "    return translated_sentence"
   ]
  },
  {
   "cell_type": "code",
   "execution_count": 41,
   "metadata": {},
   "outputs": [
    {
     "name": "stdout",
     "output_type": "stream",
     "text": [
      "Given Sentence: Come stai\n",
      "Tokenized sentence: [47, 183]\n",
      "Predicted Index -> 49\n",
      "49\n",
      "Predicted Index -> 11\n",
      "11\n",
      "Predicted Index -> 3\n",
      "3\n",
      "Translated Sentence:  how are you\n"
     ]
    }
   ],
   "source": [
    "input_sentence = \"Come stai\"\n",
    "print('Given Sentence:', input_sentence)\n",
    "\n",
    "output_sentence = predict(input_sentence, tknizer_ita, True)\n",
    "\n",
    "print('Translated Sentence:', output_sentence)"
   ]
  },
  {
   "cell_type": "code",
   "execution_count": 36,
   "metadata": {},
   "outputs": [
    {
     "name": "stdout",
     "output_type": "stream",
     "text": [
      "1000\n"
     ]
    }
   ],
   "source": [
    "# Blue Measurement\n",
    "reference = [i.replace('<start> ', '').split() for i in list(validation['english_inp'])]\n",
    "reference = reference[:1000]\n",
    "print(len(reference))"
   ]
  },
  {
   "cell_type": "code",
   "execution_count": 43,
   "metadata": {},
   "outputs": [
    {
     "name": "stdout",
     "output_type": "stream",
     "text": [
      "Given Sentence: è divertente guardare la televisione\n",
      "Tokenized sentence: [3, 354, 558, 8, 1014]\n",
      "Translated Sentence:  it is that coming <end>\n",
      "Reference: ['it', 'is', 'fun', 'to', 'watch', 'tv']\n",
      "BLEU score: 6.867731683891005e-155\n",
      "\n",
      "\n",
      "Given Sentence: qual è la sua lingua più forte\n",
      "Tokenized sentence: [177, 3, 8, 60, 770, 33, 435]\n",
      "Translated Sentence:  what is of <end>\n",
      "Reference: ['what', 'is', 'your', 'strongest', 'language']\n",
      "BLEU score: 7.422680762211792e-155\n",
      "\n",
      "\n",
      "Given Sentence: tom si è comportato come un perfetto gentiluomo\n",
      "Tokenized sentence: [1, 27, 3, 6544, 47, 11, 815, 4736]\n",
      "Translated Sentence:  tom painting that that <end>\n",
      "Reference: ['tom', 'acted', 'like', 'a', 'perfect', 'gentleman']\n",
      "BLEU score: 9.97486269044271e-232\n",
      "\n",
      "\n",
      "Given Sentence: tom è ancora il suo ragazzo vero\n",
      "Tokenized sentence: [1, 3, 51, 9, 44, 392, 42]\n",
      "Translated Sentence:  tom is is her <end>\n",
      "Reference: ['tom', 'is', 'still', 'your', 'boyfriend', 'is', 'not', 'he']\n",
      "BLEU score: 5.094696780347207e-155\n",
      "\n",
      "\n",
      "Given Sentence: spero solo che tu non sia troppo in ritardo\n",
      "Tokenized sentence: [229, 95, 6, 39, 2, 50, 86, 14, 249]\n",
      "Translated Sentence:  i i i i it <end>\n",
      "Reference: ['i', 'only', 'hope', 'you', 'are', 'not', 'too', 'late']\n",
      "BLEU score: 8.34076112986429e-232\n",
      "\n",
      "\n",
      "Given Sentence: gli insegnò a suonare il pianoforte\n",
      "Tokenized sentence: [92, 2585, 5, 428, 9, 1087]\n",
      "Translated Sentence:  he to him <end>\n",
      "Reference: ['she', 'taught', 'him', 'how', 'to', 'play', 'the', 'piano']\n",
      "BLEU score: 5.635809992474887e-232\n",
      "\n",
      "\n",
      "Given Sentence: vedo cosavete fatto lì\n",
      "Tokenized sentence: [544, 1729, 64, 162]\n",
      "Translated Sentence:  i see that <end>\n",
      "Reference: ['i', 'see', 'what', 'you', 'did', 'there']\n",
      "BLEU score: 5.780789590099596e-155\n",
      "\n",
      "\n",
      "Given Sentence: quelle scarpe sono state fatte in italia\n",
      "Tokenized sentence: [588, 453, 12, 150, 2816, 14, 2071]\n",
      "Translated Sentence:  those between in <end>\n",
      "Reference: ['those', 'shoes', 'were', 'made', 'in', 'italy']\n",
      "BLEU score: 9.291879812217675e-232\n",
      "\n",
      "\n",
      "Given Sentence: aggiungetela al mio conto\n",
      "Tokenized sentence: [62, 49, 666]\n",
      "Translated Sentence:  my account <end>\n",
      "Reference: ['add', 'it', 'to', 'my', 'bill']\n",
      "BLEU score: 7.107197028258987e-232\n",
      "\n",
      "\n",
      "Given Sentence: sono un fan dei giants\n",
      "Tokenized sentence: [12, 11, 1924, 87, 7934]\n",
      "Translated Sentence:  i am a <end>\n",
      "Reference: ['i', 'am', 'a', 'giants', 'fan']\n",
      "BLEU score: 6.725854833444237e-78\n",
      "\n",
      "\n",
      "Average Blue score:  6.725854833444237e-79\n"
     ]
    }
   ],
   "source": [
    "blue_score = 0\n",
    "length = 10\n",
    "for i in np.random.choice(list(validation.index), length):\n",
    "    input_sentence = validation.loc[i, 'italian']\n",
    "    print('Given Sentence:', input_sentence)\n",
    "    translation = predict(input_sentence, tknizer_ita, False)\n",
    "    print('Translated Sentence:', translation)\n",
    "    reference = validation.loc[i, 'english_inp'].replace('<start> ', '').split()\n",
    "    print('Reference:', reference)\n",
    "    score = bleu.sentence_bleu([reference], translation.split())\n",
    "    print('BLEU score: {}'.format(score))\n",
    "    blue_score = blue_score + score\n",
    "    print('\\n')\n",
    "print('Average Blue score: ', (blue_score/length))"
   ]
  }
 ],
 "metadata": {
  "kernelspec": {
   "display_name": "Python [conda env:tensorflow_gpu] *",
   "language": "python",
   "name": "conda-env-tensorflow_gpu-py"
  },
  "language_info": {
   "codemirror_mode": {
    "name": "ipython",
    "version": 3
   },
   "file_extension": ".py",
   "mimetype": "text/x-python",
   "name": "python",
   "nbconvert_exporter": "python",
   "pygments_lexer": "ipython3",
   "version": "3.7.9"
  }
 },
 "nbformat": 4,
 "nbformat_minor": 4
}
